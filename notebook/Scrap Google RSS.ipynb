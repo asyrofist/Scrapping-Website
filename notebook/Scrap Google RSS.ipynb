{
 "cells": [
  {
   "cell_type": "code",
<<<<<<< HEAD
   "execution_count": 2,
   "metadata": {
    "collapsed": true
   },
=======
   "execution_count": 162,
   "metadata": {},
>>>>>>> 8b7fb4de5e9ca00f7daf45d4c3e7bc7c2ce5aa86
   "outputs": [],
   "source": [
    "import requests\n",
    "from goose3 import Goose\n",
    "import spacy\n",
<<<<<<< HEAD
    "import re"
   ]
  },
  {
   "cell_type": "code",
   "execution_count": 3,
   "metadata": {},
   "outputs": [],
   "source": [
    "def sbd_component(doc):\n",
    "    for i, token in enumerate(doc[:-2]):\n",
    "        # define sentence start if period + titlecase token\n",
    "        if token.text == '.' and doc[i+1].is_title:\n",
    "            doc[i+1].is_sent_start = True\n",
    "        elif token.text == '.' and doc[i+1].is_upper:\n",
    "            doc[i+1].is_sent_start = True\n",
    "        elif token.text == '.' and doc[i+1].is_punct:\n",
    "            doc[i+1].is_sent_start = True\n",
    "    return doc\n",
    "\n",
    "def punct_check(text):\n",
    "    str_in_doublequotes = r'\"([^\"]*)\"'\n",
    "    in_quotes = re.findall(str_in_doublequotes, text)\n",
    "    for z in in_quotes:\n",
    "        text = text.replace(z,z.replace('.','**y**'))\n",
    "    return text\n",
    "\n",
    "nlp = spacy.load(\"../model_postag_ner/\")\n",
    "nlp.add_pipe(sbd_component, before='parser')  # insert before the parser\n",
=======
    "import re\n",
    "\n",
>>>>>>> 8b7fb4de5e9ca00f7daf45d4c3e7bc7c2ce5aa86
    "\n",
    "USER_AGENT = ('Mozilla/5.0 (Macintosh; Intel Mac OS X 10_11_6)'\n",
    "              ' AppleWebKit/537.36 (KHTML, like Gecko)'\n",
    "              ' Chrome/58.0.3029.96 Safari/537.36')\n",
    "\n",
    "KNOWN_PATTERNS = [\n",
    "            {\n",
    "                'attr': 'class',\n",
    "                'value': 'short-story'\n",
    "            },\n",
    "            {\n",
    "                'attr': 'itemprop',\n",
    "                'value': 'articleBody'\n",
    "            },\n",
    "            {\n",
    "                'attr': 'id',\n",
    "                'value': 'article-body'\n",
    "            },\n",
    "            {\n",
    "                'attr': 'class',\n",
    "                'value': 'article-body'\n",
    "            },\n",
    "            {\n",
    "                'attr': 'class',\n",
    "                'value': 'article-text'\n",
    "            },\n",
    "            {\n",
    "                'attr': 'class',\n",
    "                'value': 'post-content'\n",
    "            },\n",
    "            {\n",
    "                'attr': 'class',\n",
    "                'value': 'g-content'\n",
    "            },\n",
    "            {\n",
    "                'tag': 'article'\n",
    "            },\n",
    "            {\n",
    "                \"attr\": \"class\",\n",
    "                \"value\": \"content_detail\"\n",
    "            },\n",
    "            {\n",
    "                \"attr\": \"class\",\n",
    "                \"value\": \"article-excerpt\"\n",
    "            },\n",
    "            {\n",
    "                \"attr\": \"class\",\n",
    "                \"value\": \"newsContent\"\n",
    "            },\n",
    "            {\n",
    "                \"attr\": \"class\",\n",
    "                \"value\": \"post\"\n",
    "            },\n",
    "            {\n",
    "                \"attr\": \"class\",\n",
    "                \"value\": \"description\"\n",
    "            },\n",
    "            {\n",
    "                \"attr\": \"class\",\n",
    "                \"value\": \"mdk-body-paragpraph\"\n",
    "            }\n",
    "        ] \n",
    "\n",
    "lang = \"id\"\n",
    "\n",
    "\n",
    "def sbd_component(doc):\n",
    "    for i, token in enumerate(doc[:-2]):\n",
    "        # define sentence start if period + titlecase token\n",
    "        if token.text == '.' and doc[i+1].is_title:\n",
    "            doc[i+1].is_sent_start = True\n",
    "        elif token.text == '.' and doc[i+1].is_upper:\n",
    "            doc[i+1].is_sent_start = True\n",
    "        elif token.text == '.' and doc[i+1].is_punct:\n",
    "            doc[i+1].is_sent_start = True\n",
    "    return doc\n",
    "\n",
    "def punct_check(text):\n",
    "    str_in_doublequotes = r'\"([^\"]*)\"'\n",
    "    in_quotes = re.findall(str_in_doublequotes, text)\n",
    "    for z in in_quotes:\n",
    "        text = text.replace(z,z.replace('.','**y**'))\n",
    "    return text\n",
    "\n",
    "def getContent(url):\n",
    "    g = Goose({\n",
    "                'enable_image_fetching': False,\n",
    "                'use_meta_language': False,\n",
    "                'target_language': lang,\n",
    "                'browser_user_agent': USER_AGENT,\n",
    "                'known_context_patterns': KNOWN_PATTERNS,\n",
    "            })\n",
    "    article = g.extract(url=url)\n",
    "     \n",
    "    text = article.cleaned_text.replace(\".\",\". \")\n",
    "    text = text.replace(\"\\n\",\"\")\n",
    "    text = punct_check(text)\n",
    "    text = text.replace(\"  \",\" \")\n",
    "    doc = nlp(text)\n",
    "    sentences = []\n",
    "    index = 0\n",
    "    for i, sent in enumerate(doc.sents):\n",
    "        txt = sent.text\n",
    "        txt = txt.strip().replace(\"**y**\",\".\")\n",
    "        if len(txt) > 15:\n",
    "            if(index == 0):\n",
    "                stat = False\n",
    "                txt = txt.replace(\"–\",\" – \")\n",
    "                doc = nlp(txt)\n",
    "                for token in doc:\n",
    "                    if token.is_punct and token.text in [\"-\",\"—\",\"–\",\"|\"]:\n",
    "                        sentences.append(doc[token.i+1:].text.strip())\n",
    "                        stat = True\n",
    "                if stat == False:\n",
    "                    sentences.append(txt)\n",
    "            else:\n",
    "                sentences.append(txt)\n",
    "            index = index + 1\n",
    "\n",
    "    sentences = \"\\n\\n\".join(sentences)\n",
    "    return sentences\n",
    "\n",
    "nlp = spacy.load(\"/Users/kunbudiharta/Documents/Project/ner-beritagar/models/model_postag_ner/\")\n",
    "nlp.add_pipe(sbd_component, before='parser')  # insert before the parser\n",
    "\n"
   ]
  },
  {
   "cell_type": "code",
<<<<<<< HEAD
   "execution_count": 4,
=======
   "execution_count": 83,
>>>>>>> 8b7fb4de5e9ca00f7daf45d4c3e7bc7c2ce5aa86
   "metadata": {
    "collapsed": true
   },
   "outputs": [],
   "source": [
    "# import feedparser"
   ]
  },
  {
   "cell_type": "code",
<<<<<<< HEAD
   "execution_count": 5,
=======
   "execution_count": 84,
>>>>>>> 8b7fb4de5e9ca00f7daf45d4c3e7bc7c2ce5aa86
   "metadata": {
    "collapsed": true
   },
   "outputs": [],
   "source": [
    "# url_feed = \"\"\"https://news.google.com/news/rss/headlines/section/topic/NATION.id_id/Indonesia?ned=id_id&hl=id&gl=ID\"\"\"\n",
    "# d = feedparser.parse(url_feed)"
   ]
  },
  {
   "cell_type": "code",
   "execution_count": 101,
   "metadata": {
    "scrolled": false
   },
   "outputs": [],
   "source": [
    "# for i in d['entries'][:1]:\n",
    "#     print(i['title'])\n",
    "#     print(i['links'][0]['href'])\n",
    "#     url = i['links'][0]['href']\n",
    "#     content = getContent(url)\n",
    "#     print(content.replace(\".\",\". \"))\n",
    "#     print(\"\\n\")"
   ]
  },
  {
   "cell_type": "code",
<<<<<<< HEAD
   "execution_count": 6,
=======
   "execution_count": 163,
>>>>>>> 8b7fb4de5e9ca00f7daf45d4c3e7bc7c2ce5aa86
   "metadata": {
    "collapsed": true
   },
   "outputs": [
    {
     "name": "stdout",
     "output_type": "stream",
     "text": [
<<<<<<< HEAD
      "Adik Ahok: Sidang Lagi ke PN Jakut, Kayak Deja Vu\n",
      "https://www.cnnindonesia.com/nasional/20180130095343-20-272531/adik-ahok-sidang-lagi-ke-pn-jakut-kayak-deja-vu\n",
      "Jakarta, CNN Indonesia -- Basuki Tjahaja Purnama alias Ahok akan menjalani sidang perdana gugatan cerai terhadap istrinya Veronica Tan, Rabu (31/1) besok. \n",
      "\n",
      "Sidang yang digelar di gedung Pengadilan Negeri Jakarta Utara (PN Jakut) itu, bagi adik Ahok, Fifi Lety Tjahaja Purnama seperti deja vu. \n",
      "\n",
      "\"Tanggal 31 harus sidang lagi ke PN Jakut, ini kayak deja vu saja balik ke sidang tahun lalu,\" katanya di akun Instagramnya, Selasa (30/1). \n",
      "\n",
      "Dalam akun instagramnya itu, Fifi juga mengunggah foto saat mendampingi Ahok di Pengadilan Negeri Jakarta Utara. \n",
      "\n",
      "Fifi menjadi salah satu pengacara Ahok, yang didakwa menista agama. \n",
      "\n",
      "\"Koko Ahok secara fisik di penjara, tetapi justru di penjara jiwanya bebas, Mungkin ada yang secara fisik bebas tetapi jiwanya justru terpenjara,\" tulis Fifi. \n",
      "\n",
      "Sebelumnya, Pengadilan Negeri Jakarta Utara akan menggelar sidang awal kasus gugatan perceraian mantan Gubernur DKI Jakarta Basuki Tjahaja Purnama alias Ahok dengan istrinya, Veronica Tan, Rabu, 31 Januari 2018 di gedung PN Jakarta Utara, Jalan Gajah Mada Nomor 17, Jakarta Pusat. \n",
      "\n",
      "\"Sesuai jadwal biasanya jam 09.  00 WIB,\" kata Humas PN Jakarta Utara Joojte Sampaleng kepada CNN Indonesia.  com. \n",
      "\n",
      "Tiga anggota majelis hakim yang akan memimpin sidang tersebut yakni Sutaji, Ronald Salnofri, dan Taufan Mandala. \n",
      "\n",
      "Sementara Dolly Siregar, menjadi panitera pengganti yang menangani gugatan. \n",
      "\n",
      "Jootje mengatakan, sidang tersebut merupakan sidang awal dengan agenda pemeriksaan kehadiran penggugat dan tergugat. \n",
      "\n",
      "Pengadilan, kata Jootje, telah melayangkan panggilan kepada Ahok dan Veronica. \n",
      "\n",
      "\"Mereka sudah dipanggil, tapi kehadirannya bisa secara langsung atau diwakilkan kuasa hukum.  Kalau Ahok mau hadir ya dia bisa minta izin dulu, tapi kalau diwakilkan juga bisa,\" kata Jootje. \n",
      "\n",
      "Dalam sidang pemeriksaan itu, nantinya majelis hakim akan melakukan proses mediasi. \n",
      "\n",
      "\"Bila terjadi kesepakatan maka gugatan dicabut, tapi kalau tidak terjadi kesepakatan maka gugatan akan dilanjutkan,\" kata Jootje. \n",
      "\n",
      "\n"
=======
      "Bupati Maros, Hatta Rahman menegaskan, di 2018 ini tidak akan ada lagi sekolah yang kondisinya memprihatinkan seperti yang terjadi di dua daerah pelosok kecamatan Tompobulu.\n",
      "\n",
      "Hal itu, akan menjadi perhatian pihaknya.\n",
      "\n",
      "“Yah kita akan berkoordinasi dengan semua pihak.\n",
      "\n",
      "Kita berharap tahun 2018 ini sudah tidak adalagi sekolah yang tidak layak di Maros,” ucap Hatta, Selasa (30/1/2017).\n",
      "\n",
      "Menurut Bupati Maros dua periode ini, kondisi itu akan menjadi prioritas.\n",
      "\n",
      "Namun, harus dikoordinasikan dengan beberapa pihak yang terkait.\n",
      "\n",
      "Seperti Depag dan Kehutanan.\n",
      "\n",
      "“Yah tentunya harus dibicarakan dengan pihak Depag karena ini adalah madrasah.\n",
      "\n",
      "Terus posisinya juga ada di kawasan hutan.\n",
      "\n",
      "Kita ingin hak pendidikan ini bisa dirasakan oleh anak di pelosok,” sebutnya.\n",
      "\n",
      "Beberapa waktu lalu, menteri pemberdayaan perempuan dan Perlindungan Anak, Yohana Susana Yembise yang berkunjung ke beberapa wilayah di Maros, menyorot realitas sekolah yang ada di pelosok Maros.\n",
      "\n",
      "Ia berjanji akan berkomunikasi dengan Bupati terkait hal itu.\n",
      "\n",
      "Diketahui, ada beberapa sekolah di kecamatan Tompobulu yang kondisinya sangat memprihatinkan.\n",
      "\n",
      "Pertama di kampung Bara-baraya, desa Bonto Manurung.\n",
      "\n",
      "Di situ, belasan anak terpaksa bersekolah di bawah kolong rumah.\n",
      "\n",
      "Sekolah lainnya ada di dusun Bara, desa Bonto Somba.\n",
      "\n",
      "Sekolah setingkat SD dan SMP yang muridnya mencapai 40 orang itu, terancam tutup lantaran hanya memiliki seorang guru perempuan.\n"
     ]
    }
   ],
   "source": [
    "print(getContent(\"https://storage.googleapis.com/page-html-prod/20180130/9078411.html\"))"
   ]
  },
  {
   "cell_type": "code",
   "execution_count": 160,
   "metadata": {},
   "outputs": [
    {
     "name": "stdout",
     "output_type": "stream",
     "text": [
      "Kenekatan Presiden Joko Widodo berkunjung ke Afghanistan yang tengah dalam kondisi tidak stabil menghadirkan kesan dan cerita tersendiri bagi para pembantunya yang ikut serta dalam rombongan.\n",
      "\n",
      "Sekretaris Kabinet Pramono Anung menceritakan, Pemerintah Afghanistan memberlakukan pengamanan yang sangat ketat kepada Presiden Jokowi dan rombongan.\n",
      "\n",
      "Pengamanan ketat mengawal delegasi setibanya di Bandara Internasional Hamid Karzai, Kabul, sampai Istana Agr tempat Presiden Afghanistan Ashraf Ghani sudah menunggu.\n",
      "\n",
      "\"Sepanjang jalan dari Airport ke Istana Presiden Afghanistan melalui jalan-jalan berbeton, kendaraan lapis baja dan 2 heli terbang diatas mobil Presiden,\" cerita Pramono lewat akun twitternya, @pramonoanung.\n",
      "\n",
      "Dua hari sebelum kedatangan Presiden Jokowi, Kabul memang baru saja mengalami serangan teror bom bunuh diri.\n",
      "\n",
      "Korbannya mencapai 103 orang.\n",
      "\n",
      "Namun, serangan teror itu tak menyurutkan niat Jokowi berkunjung ke Afghanistan.\n",
      "\n",
      "Rencana kunjungan ini memang sudah dijadwalkan sejak awal sebagai bagian dari kunjungan Jokowi ke lima negara di Asia.\n",
      "\n",
      "Sebelum ke Afghanistan, Jokowi sudah terlebih dahulu melakukan kunjungan kenegaraan ke Sri Lanka, Pakistan, Bangladesh, dan India.\n",
      "\n",
      "\"Presiden enggak ada takutnya,\" kata Pramono.\n",
      "\n",
      "Halaman selanjutnya: Cerita lucu di tengah ketegangan\n"
>>>>>>> 8b7fb4de5e9ca00f7daf45d4c3e7bc7c2ce5aa86
     ]
    }
   ],
   "source": [
    "print(getContent(\"http://nasional.kompas.com/read/2018/01/30/10414581/cerita-menegangkan-jokowi-ke-afghanistan-selimut-jadi-syal-hingga-sujud\"))"
   ]
  },
  {
   "cell_type": "code",
<<<<<<< HEAD
   "execution_count": 8,
=======
   "execution_count": 159,
>>>>>>> 8b7fb4de5e9ca00f7daf45d4c3e7bc7c2ce5aa86
   "metadata": {},
   "outputs": [
    {
     "name": "stdout",
     "output_type": "stream",
     "text": [
<<<<<<< HEAD
      "JAKARTA, KOMPAS. com — Kenekatan Presiden Joko Widodo berkunjung ke Afghanistan yang tengah dalam kondisi tidak stabil menghadirkan kesan dan cerita tersendiri bagi para pembantunya yang ikut serta dalam rombongan.  Sekretaris Kabinet Pramono Anung menceritakan, Pemerintah Afghanistan memberlakukan pengamanan yang sangat ketat kepada Presiden Jokowi dan rombongan.  Pengamanan ketat mengawal delegasi setibanya di Bandara Internasional Hamid Karzai, Kabul, sampai Istana Agr tempat Presiden Afghanistan Ashraf Ghani sudah menunggu.  \"Sepanjang jalan dari Airport ke Istana Presiden Afghanistan melalui jalan-jalan berbeton, kendaraan lapis baja dan 2 heli terbang diatas mobil Presiden,\" cerita Pramono lewat akun twitternya, @pramonoanung.  Dua hari sebelum kedatangan Presiden Jokowi, Kabul memang baru saja mengalami serangan teror bom bunuh diri.\n",
      "\n",
      "Korbannya mencapai 103 orang.\n",
      "\n",
      "Namun, serangan teror itu tak menyurutkan niat Jokowi berkunjung ke Afghanistan.  Rencana kunjungan ini memang sudah dijadwalkan sejak awal sebagai bagian dari kunjungan Jokowi ke lima negara di Asia.\n",
      "\n",
      "Sebelum ke Afghanistan, Jokowi sudah terlebih dahulu melakukan kunjungan kenegaraan ke Sri Lanka, Pakistan, Bangladesh, dan India.  \"Presiden enggak ada takutnya,\" kata Pramono.  Halaman selanjutnya: Cerita lucu di tengah ketegangan\n"
=======
      "Sekretaris Jenderal PDIP Hasto Kristiyanto mengatakan, Bupati Banyuwangi Abdullah Azwar Anas menyatakan siap membantu memenangkan pasangan Saifullah Yusuf dan Puti Guntur Soekarno di Pemilihan Gubernur Jawa Timur 2018.\n",
      "\n",
      "\"Pak Anas menjanjikan konsolidasi kemenangan yang signifikan bagi Banyuwangi. Tadi Pak Anas juga datang,\" kata Hasto di Taman Ismail Marzuki, Cikini, Jakarta, Selasa (23/1).\n",
      "\n",
      "Keseriusan Anas membantu pemenangan Gus Ipul-Puti juga ditunjukkan dengan menjadi pengajar di sekolah kepala daerah PDIP.\n",
      "\n",
      "Hasto menuturkan, PDIP telah menunjuk Wasekjen PDIP Ahmad Basarah sebagai Ketua tim sukses Gus Ipul-Puti.\n",
      "\n",
      "Tetapi, Basarah hanya ditunjuk sebagai timses tidak formal yang akan didaftarakan ke Komisi Pemilihan Umum (KPU).\n",
      "\n",
      "Basarah, kata Hasto, memiliki tugas untuk menyiapkan jadwal kampanye, menentukan juru kampanye, serta melakukan konsolidasi partai-partai pendukung Gus Ipul-Puti.\n",
      "\n",
      "\"Bagus. Timses kita tugaskan ke DPD, tapi DPD tugaskan Ahmad Basarah. Bukan ketua tim yang formal didaftar ke KPU, tapi mewakili DPP untuk mengkoordinasikan hal yang penting dan strategis,\" ujarnya.\n",
      "\n",
      "Azwar Anas sebelumnya menjadi bakal calon Wakil Gubernur Jatim pendamping Gus Ipul.\n",
      "\n",
      "Anas mundur karena diterpa isu foto.\n",
      "\n",
      "Masalah itu membuat Anas mengembalikan mandat pencalonan dirinya di Pilgub Jatim kepada PDIP.\n",
      "\n",
      "PDIP akhirnya memilih Puti sebagai pendamping Gus Ipul di Pilgub Jatim.\n"
     ]
    }
   ],
   "source": [
    "print(getContent(\"https://www.merdeka.com/politik/sekjen-pdip-anas-janjikan-kemenangan-signifikan-gus-ipul-di-banyuwangi.html\"))"
   ]
  },
  {
   "cell_type": "code",
   "execution_count": 158,
   "metadata": {},
   "outputs": [
    {
     "name": "stdout",
     "output_type": "stream",
     "text": [
      "Chief Executive Facebook Mark Zuckerberg mengatakan bahwa situs media sosial Facebook akan fokus untuk mempromosikan berita lokal dalam update terbarunya.\n",
      "\n",
      "\"Mulai hari ini, kami akan menampilkan lebih banyak cerita dari sumber berita di kota atau kota Anda,\" kata Zuckerberg dalam postingan Facebook, Senin (29/1).\n",
      "\n",
      "\"Jika Anda mengikuti media lokal atau jika seseorang berbagi postingan media lokal, hal ini mungkin muncul lebih tinggi di News Feed,\" sambung dia.\n",
      "\n",
      "Pembaruan tersebut akan diluncurkan pertama kali di Amerika Serikat dan diperluas ke lebih banyak negara akhir tahun ini, kata Zuckerberg.\n",
      "\n",
      "Facebook telah membuat serangkaian perubahan pada situs webnya, menyusul kritik bahwa algoritme Facebook kemungkinan memprioritaskan berita yang menyesatkan dan kesalahan informasi dalam News Feed pengguna, yang mempengaruhi pemilihan presiden Amerika 2016 serta wacana politik di negara lain.\n",
      "\n",
      "Facebook baru-baru ini menyesuaikan News Feed untuk memprioritaskan apa yang teman dan keluarga bagikan, sekaligus mengurangi jumlah konten non-iklan dari media dan brand.\n",
      "\n",
      "Langkah tersebut membuat investor khawatir perubahan itu akan membuat orang menghabiskan lebih sedikit waktu di Facebook, demikian Reuters.\n"
     ]
    }
   ],
   "source": [
    "print(getContent(\"https://www.antaranews.com/berita/681609/facebook-akan-promosikan-berita-lokal-di-update-terbaru\"))"
   ]
  },
  {
   "cell_type": "code",
   "execution_count": 166,
   "metadata": {},
   "outputs": [
    {
     "ename": "ModuleNotFoundError",
     "evalue": "No module named 'simon'",
     "output_type": "error",
     "traceback": [
      "\u001b[0;31m---------------------------------------------------------------------------\u001b[0m",
      "\u001b[0;31mModuleNotFoundError\u001b[0m                       Traceback (most recent call last)",
      "\u001b[0;32m<ipython-input-166-f876c9a34b11>\u001b[0m in \u001b[0;36m<module>\u001b[0;34m()\u001b[0m\n\u001b[0;32m----> 1\u001b[0;31m \u001b[0;32mfrom\u001b[0m \u001b[0msimon\u001b[0m\u001b[0;34m.\u001b[0m\u001b[0mscrap\u001b[0m \u001b[0;32mimport\u001b[0m \u001b[0mScrap\u001b[0m\u001b[0;34m\u001b[0m\u001b[0m\n\u001b[0m",
      "\u001b[0;31mModuleNotFoundError\u001b[0m: No module named 'simon'"
     ]
    }
   ],
   "source": [
    "from simon.scrap import Scrap"
   ]
  },
  {
   "cell_type": "code",
   "execution_count": 172,
   "metadata": {},
   "outputs": [
    {
     "name": "stdout",
     "output_type": "stream",
     "text": [
      "Chief Executive Facebook Mark Zuckerberg mengatakan bahwa situs media sosial Facebook akan fokus untuk mempromosikan berita lokal dalam update terbarunya.\n",
      "\n",
      "\n",
      "\n",
      "\"Mulai hari ini, kami akan menampilkan lebih banyak cerita dari sumber berita di kota atau kota Anda,\" kata Zuckerberg dalam postingan Facebook, Senin (29/1).\n",
      "\n",
      "\"Jika Anda mengikuti media lokal atau jika seseorang berbagi postingan media lokal, hal ini mungkin muncul lebih tinggi di News Feed,\" sambung dia.\n",
      "\n",
      "Pembaruan tersebut akan diluncurkan pertama kali di Amerika Serikat dan diperluas ke lebih banyak negara akhir tahun ini, kata Zuckerberg.\n",
      "\n",
      "Facebook telah membuat serangkaian perubahan pada situs webnya, menyusul kritik bahwa algoritme Facebook kemungkinan memprioritaskan berita yang menyesatkan dan kesalahan informasi dalam News Feed pengguna, yang mempengaruhi pemilihan presiden Amerika 2016 serta wacana politik di negara lain.\n",
      "\n",
      "Facebook baru-baru ini menyesuaikan News Feed untuk memprioritaskan apa yang teman dan keluarga bagikan, sekaligus mengurangi jumlah konten non-iklan dari media dan brand.\n",
      "\n",
      "Langkah tersebut membuat investor khawatir perubahan itu akan membuat orang menghabiskan lebih sedikit waktu di Facebook, demikian Reuters.\n"
>>>>>>> 8b7fb4de5e9ca00f7daf45d4c3e7bc7c2ce5aa86
     ]
    }
   ],
   "source": [
<<<<<<< HEAD
    "print(getContent(\"http://nasional.kompas.com/read/2018/01/30/10414581/cerita-menegangkan-jokowi-ke-afghanistan-selimut-jadi-syal-hingga-sujud\"))"
=======
    "import requests\n",
    "import json\n",
    "\n",
    "data = {\n",
    "    \"url\": \"https://www.antaranews.com/berita/681609/facebook-akan-promosikan-berita-lokal-di-update-terbaru\"\n",
    "}\n",
    "r =requests.post(\"http://localhost:8000/scrap\",json.dumps(data))\n",
    "print(r.text)"
>>>>>>> 8b7fb4de5e9ca00f7daf45d4c3e7bc7c2ce5aa86
   ]
  },
  {
   "cell_type": "code",
   "execution_count": 175,
   "metadata": {},
   "outputs": [
    {
     "name": "stdout",
     "output_type": "stream",
     "text": [
      "Chief Executive Facebook Mark Zuckerberg mengatakan bahwa situs media sosial Facebook akan fokus untuk mempromosikan berita lokal dalam update terbarunya.\n",
      "\n",
      "\n",
      "\n",
      "\"Mulai hari ini, kami akan menampilkan lebih banyak cerita dari sumber berita di kota atau kota Anda,\" kata Zuckerberg dalam postingan Facebook, Senin (29/1).\n",
      "\n",
      "\"Jika Anda mengikuti media lokal atau jika seseorang berbagi postingan media lokal, hal ini mungkin muncul lebih tinggi di News Feed,\" sambung dia.\n",
      "\n",
      "Pembaruan tersebut akan diluncurkan pertama kali di Amerika Serikat dan diperluas ke lebih banyak negara akhir tahun ini, kata Zuckerberg.\n",
      "\n",
      "Facebook telah membuat serangkaian perubahan pada situs webnya, menyusul kritik bahwa algoritme Facebook kemungkinan memprioritaskan berita yang menyesatkan dan kesalahan informasi dalam News Feed pengguna, yang mempengaruhi pemilihan presiden Amerika 2016 serta wacana politik di negara lain.\n",
      "\n",
      "Facebook baru-baru ini menyesuaikan News Feed untuk memprioritaskan apa yang teman dan keluarga bagikan, sekaligus mengurangi jumlah konten non-iklan dari media dan brand.\n",
      "\n",
      "Langkah tersebut membuat investor khawatir perubahan itu akan membuat orang menghabiskan lebih sedikit waktu di Facebook, demikian Reuters.\n"
     ]
    }
   ],
   "source": [
    "print(r.text)"
   ]
  },
  {
   "cell_type": "code",
   "execution_count": null,
   "metadata": {
    "collapsed": true
   },
   "outputs": [],
   "source": []
  }
 ],
 "metadata": {
  "kernelspec": {
   "display_name": "Python 3",
   "language": "python",
   "name": "python3"
  },
  "language_info": {
   "codemirror_mode": {
    "name": "ipython",
    "version": 3
   },
   "file_extension": ".py",
   "mimetype": "text/x-python",
   "name": "python",
   "nbconvert_exporter": "python",
   "pygments_lexer": "ipython3",
   "version": "3.6.2"
  }
 },
 "nbformat": 4,
 "nbformat_minor": 2
}
