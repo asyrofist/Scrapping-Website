{
 "cells": [
  {
   "cell_type": "code",
   "execution_count": 34,
   "metadata": {},
   "outputs": [],
   "source": [
    "import requests\n",
    "from goose3 import Goose\n",
    "import spacy\n",
    "import re\n",
    "\n",
    "def sbd_component(doc):\n",
    "    for i, token in enumerate(doc[:-2]):\n",
    "        # define sentence start if period + titlecase token\n",
    "        if token.text == '.' and doc[i+1].is_title:\n",
    "            doc[i+1].is_sent_start = True\n",
    "        elif token.text == '.' and doc[i+1].is_upper:\n",
    "            doc[i+1].is_sent_start = True\n",
    "        elif token.text == '.' and doc[i+1].is_punct:\n",
    "            doc[i+1].is_sent_start = True\n",
    "    return doc\n",
    "\n",
    "def punct_check(text):\n",
    "    str_in_doublequotes = r'\"([^\"]*)\"'\n",
    "    in_quotes = re.findall(str_in_doublequotes, text)\n",
    "    for z in in_quotes:\n",
    "        text = text.replace(z,z.replace('.','**y**'))\n",
    "    return text\n",
    "\n",
    "nlp = spacy.load(\"/Users/kunbudiharta/Documents/Project/ner-beritagar/models/model_postag_ner/\")\n",
    "nlp.add_pipe(sbd_component, before='parser')  # insert before the parser\n",
    "\n",
    "USER_AGENT = ('Mozilla/5.0 (Macintosh; Intel Mac OS X 10_11_6)'\n",
    "              ' AppleWebKit/537.36 (KHTML, like Gecko)'\n",
    "              ' Chrome/58.0.3029.96 Safari/537.36')\n",
    "\n",
    "KNOWN_PATTERNS = [\n",
    "            {\n",
    "                'attr': 'class',\n",
    "                'value': 'short-story'\n",
    "            },\n",
    "            {\n",
    "                'attr': 'itemprop',\n",
    "                'value': 'articleBody'\n",
    "            },\n",
    "            {\n",
    "                'attr': 'id',\n",
    "                'value': 'article-body'\n",
    "            },\n",
    "            {\n",
    "                'attr': 'class',\n",
    "                'value': 'article-body'\n",
    "            },\n",
    "            {\n",
    "                'attr': 'class',\n",
    "                'value': 'article-text'\n",
    "            },\n",
    "            {\n",
    "                'attr': 'class',\n",
    "                'value': 'post-content'\n",
    "            },\n",
    "            {\n",
    "                'attr': 'class',\n",
    "                'value': 'g-content'\n",
    "            },\n",
    "            {\n",
    "                'tag': 'article'\n",
    "            },\n",
    "            {\n",
    "                \"attr\": \"class\",\n",
    "                \"value\": \"content_detail\"\n",
    "            }\n",
    "        ] \n",
    "\n",
    "lang = \"id\"\n",
    "\n",
    "def getContent(url):\n",
    "    g = Goose({\n",
    "                'enable_image_fetching': False,\n",
    "                'use_meta_language': False,\n",
    "                'target_language': lang,\n",
    "                'browser_user_agent': USER_AGENT,\n",
    "                'known_context_patterns': KNOWN_PATTERNS,\n",
    "            })\n",
    "    article = g.extract(url=url)\n",
    "     \n",
    "    text = article.cleaned_text.replace(\".\",\". \")\n",
    "    text = text.replace(\"\\n\",\" \")\n",
    "    text = text.replace(\"  \",\" \")\n",
    "    text = punct_check(text)\n",
    "    doc = nlp(text)\n",
    "    senteces = []\n",
    "    for sent in doc.sents:\n",
    "        txt = sent.text\n",
    "        txt = txt.strip().replace(\"**y**\",\".\")\n",
    "        senteces.append(txt)\n",
    "    sentences = \"\\n\\n\".join(senteces)\n",
    "    return sentences\n",
    "\n"
   ]
  },
  {
   "cell_type": "code",
   "execution_count": null,
   "metadata": {
    "collapsed": true
   },
   "outputs": [],
   "source": [
    "import feedparser"
   ]
  },
  {
   "cell_type": "code",
   "execution_count": null,
   "metadata": {
    "collapsed": true
   },
   "outputs": [],
   "source": [
    "url_feed = \"\"\"https://news.google.com/news/rss/headlines/section/topic/NATION.id_id/Indonesia?ned=id_id&hl=id&gl=ID\"\"\"\n",
    "d = feedparser.parse(url_feed)"
   ]
  },
  {
   "cell_type": "code",
   "execution_count": 7,
   "metadata": {
    "scrolled": false
   },
   "outputs": [
    {
     "ename": "NameError",
     "evalue": "name 'd' is not defined",
     "output_type": "error",
     "traceback": [
      "\u001b[0;31m---------------------------------------------------------------------------\u001b[0m",
      "\u001b[0;31mNameError\u001b[0m                                 Traceback (most recent call last)",
      "\u001b[0;32m<ipython-input-7-e9bf890ee392>\u001b[0m in \u001b[0;36m<module>\u001b[0;34m()\u001b[0m\n\u001b[0;32m----> 1\u001b[0;31m \u001b[0;32mfor\u001b[0m \u001b[0mi\u001b[0m \u001b[0;32min\u001b[0m \u001b[0md\u001b[0m\u001b[0;34m[\u001b[0m\u001b[0;34m'entries'\u001b[0m\u001b[0;34m]\u001b[0m\u001b[0;34m[\u001b[0m\u001b[0;34m:\u001b[0m\u001b[0;36m1\u001b[0m\u001b[0;34m]\u001b[0m\u001b[0;34m:\u001b[0m\u001b[0;34m\u001b[0m\u001b[0m\n\u001b[0m\u001b[1;32m      2\u001b[0m     \u001b[0mprint\u001b[0m\u001b[0;34m(\u001b[0m\u001b[0mi\u001b[0m\u001b[0;34m[\u001b[0m\u001b[0;34m'title'\u001b[0m\u001b[0;34m]\u001b[0m\u001b[0;34m)\u001b[0m\u001b[0;34m\u001b[0m\u001b[0m\n\u001b[1;32m      3\u001b[0m     \u001b[0mprint\u001b[0m\u001b[0;34m(\u001b[0m\u001b[0mi\u001b[0m\u001b[0;34m[\u001b[0m\u001b[0;34m'links'\u001b[0m\u001b[0;34m]\u001b[0m\u001b[0;34m[\u001b[0m\u001b[0;36m0\u001b[0m\u001b[0;34m]\u001b[0m\u001b[0;34m[\u001b[0m\u001b[0;34m'href'\u001b[0m\u001b[0;34m]\u001b[0m\u001b[0;34m)\u001b[0m\u001b[0;34m\u001b[0m\u001b[0m\n\u001b[1;32m      4\u001b[0m     \u001b[0murl\u001b[0m \u001b[0;34m=\u001b[0m \u001b[0mi\u001b[0m\u001b[0;34m[\u001b[0m\u001b[0;34m'links'\u001b[0m\u001b[0;34m]\u001b[0m\u001b[0;34m[\u001b[0m\u001b[0;36m0\u001b[0m\u001b[0;34m]\u001b[0m\u001b[0;34m[\u001b[0m\u001b[0;34m'href'\u001b[0m\u001b[0;34m]\u001b[0m\u001b[0;34m\u001b[0m\u001b[0m\n\u001b[1;32m      5\u001b[0m     \u001b[0mcontent\u001b[0m \u001b[0;34m=\u001b[0m \u001b[0mgetContent\u001b[0m\u001b[0;34m(\u001b[0m\u001b[0murl\u001b[0m\u001b[0;34m)\u001b[0m\u001b[0;34m\u001b[0m\u001b[0m\n",
      "\u001b[0;31mNameError\u001b[0m: name 'd' is not defined"
     ]
    }
   ],
   "source": [
    "for i in d['entries'][:1]:\n",
    "    print(i['title'])\n",
    "    print(i['links'][0]['href'])\n",
    "    url = i['links'][0]['href']\n",
    "    content = getContent(url)\n",
    "    print(content.replace(\".\",\". \"))\n",
    "    print(\"\\n\")"
   ]
  },
  {
   "cell_type": "code",
   "execution_count": 35,
   "metadata": {},
   "outputs": [
    {
     "name": "stdout",
     "output_type": "stream",
     "text": [
      "Jakarta, CNN Indonesia -- Penyidikan atas Asep (50), terduga pelaku penganiaya KH Umar Basri, pimpinan Pondok Pesantren (Ponpes) Al Hidayah, Cicalengka, Kabupaten Bandung, Jawa Barat, tetap dilanjutkan meski tersangka dinyatakan mengidap penyakit gangguan jiwa.\n",
      "\n",
      "\"Penyidik tetap (lanjut) sambil melengkapi hasil ahli, kita lagi menunggu hasil laboratorium di mana tersangka selain menggunakan tangan juga pakai standing mic untuk memukul (korban),\" kata Kapolda Jawa Barat, Irjen Pol Agung Budi Maryoto di RS Sartika Asih Bandung, Senin (29/1).\n",
      "\n",
      "Diungkapkan Agung, penyidik melihat ada bercak darah di standing mic masjid.\n",
      "\n",
      "\"Jika darah identik maka ada korelasinya,\" ungkapnya.\n",
      "\n",
      "Soal apakah kasus tersebut akan disidangkan atau tidak hakim yang akan memutuskan.\n",
      "\n",
      "\"Tetap kita akan berkas nanti siapa yang menentukan tersangka A termasuk dalam Pasal 44 KUH Pidana adalah hakim,\" imbuhnya.\n",
      "\n",
      "Untuk diketahui, Pasal 44 KUHP menyebutkan seseorang tidak dapat dipertanggungjawabkan secara pidana jika cacat kejiwaan atau terganggu karena penyakit.\n",
      "\n",
      "Sebelumnya, dokter spesialis kesehatan jiwa RS Sartika Asih, Leony Widjaja menerangkan, Asep pernah dirawat di Rumah Sakit Jiwa (RSJ) Jawa Barat selama periode 26 Juni-24 Juli 2017.\n",
      "\n",
      "Terduga penganiaya KH Umar Basri, Asep dicokok polisi tak jauh dari lokasi penganiayaan.\n",
      "\n",
      "Agung menuturkan, penyidik dalam olah tempat kejadian perkara (TKP) mendapati keterangan dari saksi.\n",
      "\n",
      "\"Kita tanya pada masyarakat ada seseorang yang tidak tahu jati dirinya yang kadang diam di musala, setelah dicek ada. Setelah dilakukan penangkapan langsung yang bersangkutan mengaku melakukan pemukulan kepada seseorang yang sudah tua,\" ungkapnya.\n",
      "\n",
      "Penyidik kemudian melakukan prarekontruksi, yang turut disakiskan santri yang saat ikut salat Subuh berjamaah.\n",
      "\n",
      "\"Yang bersangkutan tidak ikut salat Subuh. Setelah salat dzikir baru datang,\" terang Agung.\n",
      "\n",
      "Selanjutnya, penyidik dengan mudah menemukan pelaku karena faktor gangguan jiwa tersebut.\n",
      "\n",
      "\"Dia cerita apa adanya,\" kata Agung.\n",
      "\n",
      "\"Hasil keterangan yang didapat dari keluarga yang bersangkutan sejak keluar rumah sakit, sering berpindah-pidah tidak di rumah,\" jelasnya.\n",
      "\n",
      "(hyg)\n"
     ]
    }
   ],
   "source": [
    "print(getContent(\"https://www.cnnindonesia.com/nasional/20180130064112-12-272502/penganiayaan-kh-umar-basri-berlanjut-meski-tersangka-gila\"))"
   ]
  },
  {
   "cell_type": "code",
   "execution_count": null,
   "metadata": {
    "collapsed": true
   },
   "outputs": [],
   "source": []
  }
 ],
 "metadata": {
  "kernelspec": {
   "display_name": "py3",
   "language": "python",
   "name": "py3"
  },
  "language_info": {
   "codemirror_mode": {
    "name": "ipython",
    "version": 3
   },
   "file_extension": ".py",
   "mimetype": "text/x-python",
   "name": "python",
   "nbconvert_exporter": "python",
   "pygments_lexer": "ipython3",
   "version": "3.6.2"
  }
 },
 "nbformat": 4,
 "nbformat_minor": 2
}
