{
 "cells": [
  {
   "cell_type": "code",
   "execution_count": 2,
   "metadata": {
    "collapsed": true
   },
   "outputs": [],
   "source": [
    "import requests\n",
    "from goose3 import Goose\n",
    "import spacy\n",
    "import re"
   ]
  },
  {
   "cell_type": "code",
   "execution_count": 3,
   "metadata": {},
   "outputs": [],
   "source": [
    "def sbd_component(doc):\n",
    "    for i, token in enumerate(doc[:-2]):\n",
    "        # define sentence start if period + titlecase token\n",
    "        if token.text == '.' and doc[i+1].is_title:\n",
    "            doc[i+1].is_sent_start = True\n",
    "        elif token.text == '.' and doc[i+1].is_upper:\n",
    "            doc[i+1].is_sent_start = True\n",
    "        elif token.text == '.' and doc[i+1].is_punct:\n",
    "            doc[i+1].is_sent_start = True\n",
    "    return doc\n",
    "\n",
    "def punct_check(text):\n",
    "    str_in_doublequotes = r'\"([^\"]*)\"'\n",
    "    in_quotes = re.findall(str_in_doublequotes, text)\n",
    "    for z in in_quotes:\n",
    "        text = text.replace(z,z.replace('.','**y**'))\n",
    "    return text\n",
    "\n",
    "nlp = spacy.load(\"../model_postag_ner/\")\n",
    "nlp.add_pipe(sbd_component, before='parser')  # insert before the parser\n",
    "\n",
    "USER_AGENT = ('Mozilla/5.0 (Macintosh; Intel Mac OS X 10_11_6)'\n",
    "              ' AppleWebKit/537.36 (KHTML, like Gecko)'\n",
    "              ' Chrome/58.0.3029.96 Safari/537.36')\n",
    "\n",
    "KNOWN_PATTERNS = [\n",
    "            {\n",
    "                'attr': 'class',\n",
    "                'value': 'short-story'\n",
    "            },\n",
    "            {\n",
    "                'attr': 'itemprop',\n",
    "                'value': 'articleBody'\n",
    "            },\n",
    "            {\n",
    "                'attr': 'id',\n",
    "                'value': 'article-body'\n",
    "            },\n",
    "            {\n",
    "                'attr': 'class',\n",
    "                'value': 'article-body'\n",
    "            },\n",
    "            {\n",
    "                'attr': 'class',\n",
    "                'value': 'article-text'\n",
    "            },\n",
    "            {\n",
    "                'attr': 'class',\n",
    "                'value': 'post-content'\n",
    "            },\n",
    "            {\n",
    "                'attr': 'class',\n",
    "                'value': 'g-content'\n",
    "            },\n",
    "            {\n",
    "                'tag': 'article'\n",
    "            },\n",
    "            {\n",
    "                \"attr\": \"class\",\n",
    "                \"value\": \"content_detail\"\n",
    "            }\n",
    "        ] \n",
    "\n",
    "lang = \"id\"\n",
    "\n",
    "def getContent(url):\n",
    "    g = Goose({\n",
    "                'enable_image_fetching': False,\n",
    "                'use_meta_language': False,\n",
    "                'target_language': lang,\n",
    "                'browser_user_agent': USER_AGENT,\n",
    "                'known_context_patterns': KNOWN_PATTERNS,\n",
    "            })\n",
    "    article = g.extract(url=url)\n",
    "     \n",
    "    text = article.cleaned_text.replace(\".\",\". \")\n",
    "    text = text.replace(\"\\n\",\" \")\n",
    "    text = text.replace(\"  \",\" \")\n",
    "    text = punct_check(text)\n",
    "    doc = nlp(text)\n",
    "    senteces = []\n",
    "    for sent in doc.sents:\n",
    "        txt = sent.text\n",
    "        txt = txt.strip().replace(\"**y**\",\".\")\n",
    "        senteces.append(txt)\n",
    "    sentences = \"\\n\\n\".join(senteces)\n",
    "    return sentences\n",
    "\n"
   ]
  },
  {
   "cell_type": "code",
   "execution_count": 4,
   "metadata": {
    "collapsed": true
   },
   "outputs": [],
   "source": [
    "import feedparser"
   ]
  },
  {
   "cell_type": "code",
   "execution_count": 5,
   "metadata": {
    "collapsed": true
   },
   "outputs": [],
   "source": [
    "url_feed = \"\"\"https://news.google.com/news/rss/headlines/section/topic/NATION.id_id/Indonesia?ned=id_id&hl=id&gl=ID\"\"\"\n",
    "d = feedparser.parse(url_feed)"
   ]
  },
  {
   "cell_type": "code",
   "execution_count": 6,
   "metadata": {
    "collapsed": true
   },
   "outputs": [
    {
     "name": "stdout",
     "output_type": "stream",
     "text": [
      "Adik Ahok: Sidang Lagi ke PN Jakut, Kayak Deja Vu\n",
      "https://www.cnnindonesia.com/nasional/20180130095343-20-272531/adik-ahok-sidang-lagi-ke-pn-jakut-kayak-deja-vu\n",
      "Jakarta, CNN Indonesia -- Basuki Tjahaja Purnama alias Ahok akan menjalani sidang perdana gugatan cerai terhadap istrinya Veronica Tan, Rabu (31/1) besok. \n",
      "\n",
      "Sidang yang digelar di gedung Pengadilan Negeri Jakarta Utara (PN Jakut) itu, bagi adik Ahok, Fifi Lety Tjahaja Purnama seperti deja vu. \n",
      "\n",
      "\"Tanggal 31 harus sidang lagi ke PN Jakut, ini kayak deja vu saja balik ke sidang tahun lalu,\" katanya di akun Instagramnya, Selasa (30/1). \n",
      "\n",
      "Dalam akun instagramnya itu, Fifi juga mengunggah foto saat mendampingi Ahok di Pengadilan Negeri Jakarta Utara. \n",
      "\n",
      "Fifi menjadi salah satu pengacara Ahok, yang didakwa menista agama. \n",
      "\n",
      "\"Koko Ahok secara fisik di penjara, tetapi justru di penjara jiwanya bebas, Mungkin ada yang secara fisik bebas tetapi jiwanya justru terpenjara,\" tulis Fifi. \n",
      "\n",
      "Sebelumnya, Pengadilan Negeri Jakarta Utara akan menggelar sidang awal kasus gugatan perceraian mantan Gubernur DKI Jakarta Basuki Tjahaja Purnama alias Ahok dengan istrinya, Veronica Tan, Rabu, 31 Januari 2018 di gedung PN Jakarta Utara, Jalan Gajah Mada Nomor 17, Jakarta Pusat. \n",
      "\n",
      "\"Sesuai jadwal biasanya jam 09.  00 WIB,\" kata Humas PN Jakarta Utara Joojte Sampaleng kepada CNN Indonesia.  com. \n",
      "\n",
      "Tiga anggota majelis hakim yang akan memimpin sidang tersebut yakni Sutaji, Ronald Salnofri, dan Taufan Mandala. \n",
      "\n",
      "Sementara Dolly Siregar, menjadi panitera pengganti yang menangani gugatan. \n",
      "\n",
      "Jootje mengatakan, sidang tersebut merupakan sidang awal dengan agenda pemeriksaan kehadiran penggugat dan tergugat. \n",
      "\n",
      "Pengadilan, kata Jootje, telah melayangkan panggilan kepada Ahok dan Veronica. \n",
      "\n",
      "\"Mereka sudah dipanggil, tapi kehadirannya bisa secara langsung atau diwakilkan kuasa hukum.  Kalau Ahok mau hadir ya dia bisa minta izin dulu, tapi kalau diwakilkan juga bisa,\" kata Jootje. \n",
      "\n",
      "Dalam sidang pemeriksaan itu, nantinya majelis hakim akan melakukan proses mediasi. \n",
      "\n",
      "\"Bila terjadi kesepakatan maka gugatan dicabut, tapi kalau tidak terjadi kesepakatan maka gugatan akan dilanjutkan,\" kata Jootje. \n",
      "\n",
      "\n"
     ]
    }
   ],
   "source": [
    "for i in d['entries'][:1]:\n",
    "    print(i['title'])\n",
    "    print(i['links'][0]['href'])\n",
    "    url = i['links'][0]['href']\n",
    "    content = getContent(url)\n",
    "    print(content.replace(\".\",\". \"))\n",
    "    print(\"\\n\")"
   ]
  },
  {
   "cell_type": "code",
   "execution_count": 8,
   "metadata": {},
   "outputs": [
    {
     "name": "stdout",
     "output_type": "stream",
     "text": [
      "JAKARTA, KOMPAS. com — Kenekatan Presiden Joko Widodo berkunjung ke Afghanistan yang tengah dalam kondisi tidak stabil menghadirkan kesan dan cerita tersendiri bagi para pembantunya yang ikut serta dalam rombongan.  Sekretaris Kabinet Pramono Anung menceritakan, Pemerintah Afghanistan memberlakukan pengamanan yang sangat ketat kepada Presiden Jokowi dan rombongan.  Pengamanan ketat mengawal delegasi setibanya di Bandara Internasional Hamid Karzai, Kabul, sampai Istana Agr tempat Presiden Afghanistan Ashraf Ghani sudah menunggu.  \"Sepanjang jalan dari Airport ke Istana Presiden Afghanistan melalui jalan-jalan berbeton, kendaraan lapis baja dan 2 heli terbang diatas mobil Presiden,\" cerita Pramono lewat akun twitternya, @pramonoanung.  Dua hari sebelum kedatangan Presiden Jokowi, Kabul memang baru saja mengalami serangan teror bom bunuh diri.\n",
      "\n",
      "Korbannya mencapai 103 orang.\n",
      "\n",
      "Namun, serangan teror itu tak menyurutkan niat Jokowi berkunjung ke Afghanistan.  Rencana kunjungan ini memang sudah dijadwalkan sejak awal sebagai bagian dari kunjungan Jokowi ke lima negara di Asia.\n",
      "\n",
      "Sebelum ke Afghanistan, Jokowi sudah terlebih dahulu melakukan kunjungan kenegaraan ke Sri Lanka, Pakistan, Bangladesh, dan India.  \"Presiden enggak ada takutnya,\" kata Pramono.  Halaman selanjutnya: Cerita lucu di tengah ketegangan\n"
     ]
    }
   ],
   "source": [
    "print(getContent(\"http://nasional.kompas.com/read/2018/01/30/10414581/cerita-menegangkan-jokowi-ke-afghanistan-selimut-jadi-syal-hingga-sujud\"))"
   ]
  },
  {
   "cell_type": "code",
   "execution_count": null,
   "metadata": {
    "collapsed": true
   },
   "outputs": [],
   "source": []
  }
 ],
 "metadata": {
  "kernelspec": {
   "display_name": "Python 3",
   "language": "python",
   "name": "python3"
  },
  "language_info": {
   "codemirror_mode": {
    "name": "ipython",
    "version": 3
   },
   "file_extension": ".py",
   "mimetype": "text/x-python",
   "name": "python",
   "nbconvert_exporter": "python",
   "pygments_lexer": "ipython3",
   "version": "3.6.2"
  }
 },
 "nbformat": 4,
 "nbformat_minor": 2
}
