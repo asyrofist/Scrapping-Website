{
 "cells": [
  {
   "cell_type": "markdown",
   "metadata": {},
   "source": [
    "# Scrapping Google News Indonesia and Store to .txt file"
   ]
  },
  {
   "cell_type": "markdown",
   "metadata": {},
   "source": [
    "This script is trying to get links from Google News Indonesia news, and get the content for each link."
   ]
  },
  {
   "cell_type": "markdown",
   "metadata": {},
   "source": [
    "### Libraries"
   ]
  },
  {
   "cell_type": "code",
   "execution_count": 1,
   "metadata": {
    "collapsed": true
   },
   "outputs": [],
   "source": [
    "from pprint import pprint\n",
    "from goose import Goose\n",
    "from bs4 import BeautifulSoup\n",
    "import requests\n",
    "import string\n",
    "import os.path"
   ]
  },
  {
   "cell_type": "markdown",
   "metadata": {},
   "source": [
    "### Test page"
   ]
  },
  {
   "cell_type": "code",
   "execution_count": 2,
   "metadata": {},
   "outputs": [
    {
     "data": {
      "text/plain": [
       "<Response [200]>"
      ]
     },
     "execution_count": 2,
     "metadata": {},
     "output_type": "execute_result"
    }
   ],
   "source": [
    "url = \"https://news.google.com/news/?ned=id_id&gl=ID&hl=id\"\n",
    "page = requests.get(url)\n",
    "page\n",
    "\n",
    "#if response = 200, it mean the page was downloaded succesfully"
   ]
  },
  {
   "cell_type": "markdown",
   "metadata": {},
   "source": [
    "### Parsing page "
   ]
  },
  {
   "cell_type": "code",
   "execution_count": 3,
   "metadata": {},
   "outputs": [
    {
     "data": {
      "text/plain": [
       "[<a aria-level=\"2\" class=\"nuEeue hzdq5d ME7ew\" href=\"http://news.liputan6.com/read/3225713/anggur-merah-dan-pelumas-di-tengah-pesta-seks-sejenis-di-cianjur\" jsname=\"NV4Anc\" role=\"heading\" target=\"_blank\">Anggur Merah dan Pelumas di Tengah Pesta Seks Sejenis di Cianjur</a>]"
      ]
     },
     "execution_count": 3,
     "metadata": {},
     "output_type": "execute_result"
    }
   ],
   "source": [
    "soup = BeautifulSoup(page.content, 'html.parser')\n",
    "sample = soup.find_all(\"a\", {\"class\" : \"nuEeue\"})\n",
    "sample[:1]"
   ]
  },
  {
   "cell_type": "code",
   "execution_count": 4,
   "metadata": {
    "collapsed": true
   },
   "outputs": [],
   "source": [
    "links = []\n",
    "for x in sample:\n",
    "    links.append(x['href'])"
   ]
  },
  {
   "cell_type": "code",
   "execution_count": 5,
   "metadata": {},
   "outputs": [
    {
     "name": "stdout",
     "output_type": "stream",
     "text": [
      "[u'http://news.liputan6.com/read/3225713/anggur-merah-dan-pelumas-di-tengah-pesta-seks-sejenis-di-cianjur',\n",
      " u'https://daerah.sindonews.com/read/1273477/21/polisi-gerebek-pesta-gay-di-cianjur-5-pria-ditangkap-1515903149',\n",
      " u'https://news.detik.com/jawabarat/3814087/begini-situasi-saat-penggerebekan-pesta-gay-di-cianjur']\n"
     ]
    }
   ],
   "source": [
    "pprint(links[:3])"
   ]
  },
  {
   "cell_type": "markdown",
   "metadata": {},
   "source": [
    "### Save link to .txt file"
   ]
  },
  {
   "cell_type": "code",
   "execution_count": 6,
   "metadata": {},
   "outputs": [
    {
     "name": "stdout",
     "output_type": "stream",
     "text": [
      "' http://news.liputan6.com/read/3225713/anggur-merah-dan-pelumas-di-tengah-pesta-seks-sejenis-di-cianjur,  https://daerah.sindonews.com/read/1273477/21/polisi-gerebek-pesta-gay-di-cianjur-5-pria-ditangkap-1515903149,  https://news.detik.com/jawabarat/3814087/begini-situasi-saat-penggerebekan-pesta-gay-di-cianjur,  http://nusantara.rmol.co/read/2018/01/13/322181/Warna-Pilkada-Jawa-Tengah-Bakal-Adopsi-Kampanye-Jakarta-,  https://news.okezone.com/read/2018/01/12/337/1844253/alumni-212-tolong-pan-pks-gerindra-solid-jangan-campur-dengan-partai-penista-agama,  http://nasional.kompas.com/read/2018/01/14/13164651/bawaslu-tindaklanjuti-dugaan-mahar-politik-di-cirebon-dan-kalteng,  https://news.detik.com/berita/d-3813739/pks-jabar-tepis-isu-mahar-kami-tak-pernah-proses-brigjen-siswandi,  http://www.republika.co.id/berita/nasional/pilkada/18/01/14/p2j0vq409-jenderal-polisi-diminta-mahar-ini-penjelasan-pks-jabar,  http://regional.kompas.com/read/2018/01/14/11074751/sepenggal-cerita-bupati-cantik-talaud-yang-dinonaktifkan-mendagri,  https://news.detik.com/berita/3813842/pdip-bupati-talaud-sri-wahyumi-sudah-bukan-kader-kami,  https://www.cnnindonesia.com/nasional/20180114125424-32-268717/kronologi-bupati-talaud-sri-wahyumi-dinonaktifkan-jabatan,  https://news.detik.com/berita/d-3813951/anies-malu-kalau-mobilnya-mewah-tapi-nggak-bayar-pajak,  http://megapolitan.kompas.com/read/2018/01/14/12272691/anies-malu-kalau-mobilnya-mewah-tetapi-tidak-bayar-pajak,  https://www.viva.co.id/otomotif/mobil/996603-anies-ungkap-status-pemilik-mobil-mewah-yang-tunggak-pajak,  https://www.cnnindonesia.com/nasional/20180113180731-20-268639/citra-politik-anies-dalam-natal-bersama-pemprov-dki,  http://www.solopos.com/2018/01/13/di-hadapan-tamu-undangan-mempelai-pria-nekat-peluk-mantan-hingga-pingsan-884404,  https://news.detik.com/berita/d-3813711/kebesaran-hati-istri-yang-lihat-suami-pingsan-di-pelukan-mantan,  http://www.inhilklik.com/news/detail/27926/Infografis/pengantin-pria-pingsan-setelah-peluk-sang-mantan-ini-videonya,  https://sport.detik.com/sepakbola/liga-indonesia/3814125/presiden-jokowi-resmikan-sugbk-malam-ini,  http://www.medanbisnisdaily.com/news/online/read/2018/01/14/20977/soal_72_ribu_pendaftar_paspor_fiktif_dirjen_imigrasi_ini_sindikat/,  http://internasional.kompas.com/read/2018/01/14/13025951/kota-paling-berbahaya-di-dunia-letaknya-tak-jauh-dari-indonesia?page=all,  http://bangka.tribunnews.com/2018/01/13/bertetangga-dengan-wilayah-indonesia-kota-ini-disebut-paling-berbahaya-di-dunia,  http://www.infomenarik-terbaru.com/bertetangga-dengan-wilayah-indonesia-kota-ini-dipanggil-paling-berbahaya-di-dunia/,  https://www.cnnindonesia.com/internasional/20180114120759-134-268704/hawaii-panik-setelah-peringatan-palsu-serangan-rudal,  https://international.sindonews.com/read/1273448/40/peringatan-palsu-hawaii-diserang-rudal-publik-ketakutan-1515875115,  http://www.bbc.com/indonesia/dunia-42679424,  http://kabar24.bisnis.com/read/20180114/19/726197/peringatan-serangan-misil-palsu-tersebar-warga-hawaii-panik,  http://poskotanews.com/2018/01/14/bintang-porno-stephanie-clifford-dibayar-trump-130-ribu-dolar-as-agar-diam/,  https://international.sindonews.com/read/1273420/42/cerita-uang-tutup-mulut-trump-ke-bintang-porno-dan-bantahannya-1515855046,  https://news.detik.com/internasional/d-3813705/usai-bintang-porno-trump-disebut-rawat-100-perempuan-saat-pilpres,  http://news.liputan6.com/read/3225437/akankah-fredrich-yunadi-bawa-kasusnya-ke-praperadilan,  http://jambi.tribunnews.com/2018/01/14/8-fakta-penangkapan-fredrich-yunadi-nomor-6-pakai-kaus-nomor-66,  https://www.cnnindonesia.com/nasional/20180113175428-12-268638/fredrich-ingin-ajukan-penangguhan-penahanan-dan-praperadilan,  http://nasional.kompas.com/read/2018/01/14/13212051/beras-mahal-zulkifli-hasan-minta-ada-operasi-pasar-besar-besaran,  http://www.republika.co.id/berita/mpr-ri/berita-mpr/18/01/14/p2jb2t368-ketua-mpr-minta-bulog-keluarkan-stok-beras,  https://news.detik.com/berita/3814180/zulkifli-hasan-tanya-pak-dirman-kami-tak-pungut-biaya-mahar,  http://news.liputan6.com/read/3225280/tak-kunjung-pulang-rizieq-shihab-sekeluarga-liburan-ke-turki,  http://www.bbc.com/indonesia/indonesia-42661214,  http://www.suratkabar.id/72491/news/tak-kunjung-pulang-ke-indonesia-habib-rizieq-bersama-keluarga-malah-plesir-ke-negara-ini,  http://megapolitan.kompas.com/read/2018/01/14/13563831/beberapa-poin-evaluasi-atas-cfd-di-jlnt-antasari,  http://nasional.republika.co.id/berita/nasional/jabodetabek-nasional/18/01/14/p2jajr280-sandiaga-resmikan-hbkbcfd-di-jalan-nontol-antasari,  http://news.liputan6.com/read/3225658/beda-cfd-di-mampang-prapatan-dan-jalan-layang-antasari,  http://www.tribunnews.com/metropolitan/2018/01/14/mulai-minggu-ini-jlnt-antasari-dipergunakan-untuik-kegiatan-cfd,  http://www.tribunnews.com/bisnis/2018/01/14/gunakan-bitcoin-sebagai-alat-pembayaran-di-indonesia-ini-sanksinya,  http://www.republika.co.id/berita/ekonomi/keuangan/18/01/14/p2iv1v409-bi-ingatkan-masyarakat-tak-perdagangkan-bitcoin,  http://www.beritasatu.com/ekonomi/473213-bi-cryptocurrency-dilarang-untuk-alat-transaksi.html,  http://nasional.kompas.com/read/2018/01/13/21341681/fahri-hamzah-minta-pemerintah-akui-kesalahan-soal-kebijakan-beras,  http://politik.rmol.co/read/2018/01/13/322243/Impor-Beras-Bukti-Kegagalan-Jokowi-,  http://www.suratkabar.id/72515/ekonomi/kritik-jokowi-karena-harga-beras-naik-fahri-hamzah-mana-janjinya-sekarang,  http://www.republika.co.id/berita/nasional/umum/18/01/13/p2i1wy335-ka-tawang-jaya-premium-tambahan-kembali-beroperasi,  https://news.okezone.com/read/2018/01/14/512/1844666/penumpang-melonjak-pt-kai-operasikan-kereta-api-tawang-jaya-premium-tambahan,  http://otomotif.kompas.com/read/2018/01/14/083224115/nyaris-drop-penjualan-honda-terselamatkan-crf150l,  https://news.okezone.com/read/2018/01/14/15/1844663/honda-jual-4-38-juta-motor-di-2017-beat-dan-vario-terlaris,  http://krjogja.com/web/news/read/55094/Ditopang_Skutik_AHM_Catat_Penjualan_4_3_Juta_Unit,  https://www.viva.co.id/digital/996592-bikin-gaduh-grup-admin-whatsapp-bisa-dikudeta,  https://inet.detik.com/consumer/d-3813753/admin-whatsapp-bisa-dilengserkan-paksa-dengan-fitur-ini,  http://trendtek.republika.co.id/berita/trendtek/aplikasi/18/01/14/p2j371328-whatsapp-tambahkan-fitur-pemecatan-admin-grup,  http://tekno.liputan6.com/read/3223663/facebook-ubah-penyaringan-konten-di-news-feed,  https://inet.detik.com/cyberlife/d-3813884/zuckerberg-ungkap-facebook-segera-dirombak,  http://teknologi.metrotvnews.com/news-teknologi/GNlJoJ2k-facebook-ingin-rombak-news-feed,  http://trendtek.republika.co.id/berita/trendtek/internet/18/01/12/p2foix328-facebook-ubah-algoritma-agar-teman-dan-keluarga-lebih-muncul,  http://tekno.kompas.com/read/2018/01/14/11590047/anggota-tak-dikenal-bisa-ikut-baca-percakapan-di-grup-whatsapp,  https://techno.okezone.com/read/2018/01/14/207/1844625/percakapan-whatsapp-bisa-diintip-oleh-hacker-benarkah,  http://www.infomenarik-terbaru.com/duh-anggota-tidak-diketahui-dapat-ikut-membaca-percakapan-di-grup-whatsapp/,  https://www.droidlime.com/artikel/lahir-di-barcelona-duo-galaxy-flagship-samsung-mulai-terungkap.html,  https://www.tabloidpulsa.co.id/news/33019-mencuat-jelang-rilis-ini-spesifikasi-samsung-galaxy-on7-prime-2018,  https://arenalte.com/berita/produk/ini-penampakan-samsung-galaxy-on7-prime-2018-terbaru/,  http://www.tribunnews.com/seleb/2018/01/14/sukses-curi-perhatian-juri-dengan-suara-manjanya-begini-wajah-marion-jola-tanpa-makeup-cantik,  https://seleb.tempo.co/read/1050251/marion-jola-peserta-indonesian-idol-yang-curi-perhatian-netizen,  http://makassar.tribunnews.com/2018/01/14/dijamin-berdesir-lihat-pose-pose-hot-marion-jola-finalis-indonesian-idol-ada-juga-link-video-loh,  http://www.tribunnews.com/seleb/2018/01/14/roro-fitria-punya-jawaban-anggun-dan-berkelas-saat-dicerca-pertanyaan-kapan-nikah,  http://palembang.tribunnews.com/2018/01/14/ditanya-kapan-nikah-ini-jawaban-tak-terduga-roro-fitria-hingga-bawa-kiamat-netter-salut,  https://www.jpnn.com/news/betah-menjomlo-kapan-roro-fitria-nikah,  http://showbiz.liputan6.com/read/3225238/nagita-slavina-bantah-bermusuhan-dengan-ayu-ting-ting,  https://www.wowkeren.com/berita/tampil/00191306.html,  http://www.sisidunia.com/2018/01/13/model-sobek-tapi-jangan-heran-dengan-harga-baju-nagita-slavina-ini/138316,  http://palembang.tribunnews.com/2018/01/13/ini-yang-terjadi-setelah-pengantin-pria-di-kecamatan-tempe-pingsan-dalam-posisi-memeluk-mantan,  http://makassar.tribunnews.com/2018/01/13/pingsan-usai-peluk-mantan-di-acara-pernikahannya-begini-hubungan-nokis-dan-sang-istri,  http://radarbanyumas.co.id/gara-gara-mantan-pengantin-pria-pingsan/,  https://www.tabloidbintang.com/extra/fenomena/read/89122/soal-pengantin-pria-peluk-mantan-di-hari-pernikahan-ini-cerita-versi-keluarga,  http://bola.liputan6.com/read/3225521/real-madrid-kibarkan-bendera-putih-di-liga-spanyol,  https://sport.detik.com/sepakbola/liga-spanyol/3814163/madrid-sedang-bunt ,  https://www.bola.net/spanyol/zidane-kesulitan-jelaskan-alasan-kekalahan-madrid-dari-villarreal-e9e2a3.html,  http://www.beritasatu.com/olahraga/473195-zidane-tak-bisa-jelaskan-penyebab-madrid-gagal-cetak-gol.html,  http://bola.liputan6.com/read/3225580/timnas-indonesia-ditantang-menyerang-islandia,  http://bola.kompas.com/read/2018/01/14/13350078/alasan-luis-milla-tak-panggil-pemain-bali-united-ke-timnas-indonesia,  https://bola.tempo.co/read/1050239/timnas-vs-islandia-heimir-ini-persiapan-kami-ke-piala-dunia,  http://bola.kompas.com/read/2018/01/14/07361378/sempat-bilang-rumput-sugbk-aneh-pelatih-islandia-kini-beri-nilai-10,  https://sport.detik.com/sepakbola/liga-indonesia/3813606/islandia-rumput-stadion-gbk-terlalu-tinggi,  http://news.metrotvnews.com/peristiwa/0kpnWA5N-wajah-baru-stadion-gelora-bung-karno,  http://www.republika.co.id/berita/olahraga/arena-olahraga/18/01/14/p2j78h438-jokowi-puji-hasil-renovasi-stadion-utama-gbk,  http://bola.liputan6.com/read/3225573/chelsea-mandul-conte-ogah-kambing-hitamkan-morata,  https://sport.detik.com/sepakbola/liga-inggris/3813921/courtois-kecam-suporter-yang-menyoraki-chelsea,  http://bola.kompas.com/read/2018/01/14/11000008/conte--pemain-chelsea-kelelahan,  https://www.bola.net/inggris/hasil-pertandingan-chelsea-vs-leicester-city-0-0-abfec7.html,  https://www.gatra.com/iltek/sains/303363-astronot-bisa-pergi-ke-mars-dengan-ember-dan-mendapatkan-air-yang-mereka-butuhkan,  https://techno.okezone.com/read/2018/01/12/56/1844215/nasa-temukan-cadangan-air-di-bawah-permukaan-mars,  http://entertainment.analisadaily.com/read/es-terdeteksi-di-bawah-permukaan-mars/486043/2018/01/14,  http://www.republika.co.id/berita/trendtek/sains-trendtek/18/01/13/p2hzam428-ilmuwan-endapan-es-di-mars-bisa-topang-kehidupan-manusia,  https://nationalgeographic.co.id/berita/2018/01/laba-laba-kanibal-yang-baru-ditemukan-ini-mirip-seperti-burung-pelikan,  https://techno.okezone.com/read/2018/01/12/56/1844205/diduga-punah-laba-laba-pembunuh-ini-ditemukan-hidup,  http://sains.kompas.com/read/2018/01/13/190900023/fosil-hidup-laba-laba-dari-50-juta-tahun-lalu-ini-bermulut-seperti-pelikan,  https://techno.okezone.com/read/2018/01/12/56/1844222/serap-99-96-cahaya-burung-cenderawasih-berbulu-sangat-hitam,  https://kumparan.com/@kumparansains/alasan-di-balik-pekatnya-warna-hitam-bulu-burung-cenderawasih,  http://trendtek.republika.co.id/berita/trendtek/sains-trendtek/18/01/14/p2im1u359-hidup-tanpa-gravitasi-astronot-alami-demam-luar-angkasa,  https://www.viva.co.id/blog/lainnya/996565-astronot-jepang-alami-fenomena-pertumbuhan-tubuh,  https://www.cnnindonesia.com/nasional/20180114115504-20-268705/anies-kritisi-penyebaran-difteri-di-jakarta,  http://regional.kompas.com/read/2018/01/14/13071711/anies-berharap-orangtua-tidak-ragu-berikan-imunisasi-difteri,  http://news.liputan6.com/read/3225645/anies-sebut-banten-penyebab-jakarta-barat-klb-difteri,  http://batam.tribunnews.com/2018/01/14/inilah-bayi-prematur-terkecil-di-asia-kisahnya-berjuang-untuk-hidup-menyayat-hati,  https://international.sindonews.com/read/1273437/46/terlahir-seukuran-telapak-tangan-ayahnya-bayi-ini-terus-tumbuh-1515866489,  http://rona.metrotvnews.com/kesehatan/VNnJvOON-perjuangan-bayi-terkecil-di-asia-untuk-bertahan-hidup,  http://travel.tribunnews.com/2018/01/13/jangan-sampai-jadi-korban-selanjutnya-segera-buang-jika-kamu-temukan-ini-pada-semangka,  http://www.infomenarik-terbaru.com/pernah-belah-semangka-kemudian-temukan-bentuk-retak-di-daging-buahnya-bahaya-jangan-dimakan/,  http://www.klikbontang.com/berita-14741-wajib-tahu-inilah-waktu-terbaik-untuk-makan-semangka.html,  http://health.liputan6.com/read/3225524/kpai-ungkap-penyebab-campak-melanda-anak-anak-asmat,  http://nusantara.rmol.co/read/2018/01/14/322268/Kematian-Berantai-Bayi-Di-Papua-Tersembunyi-Di-Balik-Pencitraan-Jokowi-,  https://media-merdeka.com/2018/frans-agung-pemerintah-harus-cepat-tangani-klb-gizi-buruk-di-papua.html,  http://beritajatim.com/gaya_hidup/318543/artotel_seluruh_indonesia_gelar_artotel_for_hope_2018.html,  http://beritajatim.com/gaya_hidup/318524/ini_resep_arumi_bachin_agar_suami_tetap_bugar.html,  http://beritajatim.com/gaya_hidup/318569/menengok_kampung_semanggi_di_kota_surabaya.html,  https://beritabulukumba.com/52742/bendahara-dprd-bulukumba-gelapkan-dana-sebesar-rp-628-juta?google_editors_picks=true,  https://beritabulukumba.com/52735/mega-proyek-jembatan-bialo-di-bidik-polres-bulukumba?google_editors_picks=true,  https://beritabulukumba.com/52731/kontraktor-proyek-igd-rsud-sulthan-daeng-radja-didenda-3-juta-hari?google_editors_picks=true,  https://beritabulukumba.com/52725/bupati-bulukumba-luncurkan-pemanfaatan-gas-metan-di-tpa-borong-manempa?google_editors_picks=true,  https://beritabulukumba.com/52720/kadis-dlhk-bulukumba-kita-berpeluang-rebut-adipura-kembali?google_editors_picks=true'\n"
     ]
    }
   ],
   "source": [
    "str_link = str(links)\n",
    "link_list = str_link.replace(\"u'\",\" \").replace('[','').replace(']','').replace(\"'\",\"\")\n",
    "pprint(link_list)"
   ]
  },
  {
   "cell_type": "code",
   "execution_count": 7,
   "metadata": {
    "collapsed": true
   },
   "outputs": [],
   "source": [
    "final_link = str(link_list)\n",
    "\n",
    "myfile = open('links.txt','w')\n",
    "myfile.write(final_link)"
   ]
  },
  {
   "cell_type": "markdown",
   "metadata": {},
   "source": [
    "### Get title and content"
   ]
  },
  {
   "cell_type": "code",
   "execution_count": 8,
   "metadata": {},
   "outputs": [],
   "source": [
    "def scrap_content(link):\n",
    "    g = Goose()\n",
    "    extract = g.extract(url=link)\n",
    "    \n",
    "    title = extract.title\n",
    "    \n",
    "    content = extract.cleaned_text\n",
    "    content = content.replace('\\n','').replace(\"\\'\",\"\")\n",
    "    \n",
    "    result = []\n",
    "    result.append(title)\n",
    "    result.append(content)\n",
    "        \n",
    "    return(result)"
   ]
  },
  {
   "cell_type": "code",
   "execution_count": 9,
   "metadata": {},
   "outputs": [],
   "source": [
    "myfile = open('links.txt','r')\n",
    "links = myfile.read().split(',')\n",
    "\n",
    "google_news_link = []\n",
    "for link in links:\n",
    "    google_news_link.append(link)"
   ]
  },
  {
   "cell_type": "markdown",
   "metadata": {},
   "source": [
    "### Testing"
   ]
  },
  {
   "cell_type": "code",
   "execution_count": 10,
   "metadata": {},
   "outputs": [
    {
     "name": "stdout",
     "output_type": "stream",
     "text": [
      "Link    : https://www.viva.co.id/berita/metro/996526-anies-tegaskan-pemprov-dki-berwenang-batalkan-reklamasi\n",
      "Title   : Anies Tegaskan Pemprov DKI Berwenang Batalkan Reklamasi – VIVA\n",
      "Content : VIVA – Gubernur DKI Jakarta Anies Baswedan menegaskan bahwa pembatalan proyek reklamasi berdasarkan peraturan dan undang-undang yang berlaku. Dia merujuk pada pasal 103 dan 104 Peraturan Menteri Agraria dan Badan Pertanahan Nasional Nomor 99 Tahun 1999.\"Di Peraturan Menteri itu dijelaskan tentang prosedur untuk pembatalan Hak Guna Bangunan (HGB). Kita ingin tegaskan bahwa ketika ada cacat administrasi, maka pemegang otoritas wilayah berhak untuk melakukan peninjauan ulang,\" kata Anies ketika ditemui di Jakarta International Expo, Jakarta,  Sabtu malam, 13 Januari 2018.Gubernur juga menyadari bahwa persoalan pembatalan reklamasi itu menjadi perhatian masyarakat. Namun dia menggarisbawahi bahwa dia tahu persis aturan yang digunakan, yang selama ini sudah sering digunakan. Pemerintah Provinsi dalam hal ini akan dengan sangat mudah mengembalikan pajak.\"Tidak ada masalah sama sekali, bukan pakai APBD, bayar pajak itu ada catatan. Bahwa pajak yang masuk secara sekonyong-konyong itu banyak catatan di situ,\" ujarnya.Gubernur mengaku telah berdiskusi dengan Badan Penerimaan dan Retribusi Daerah, dan ternyata memang banyak catatan.\n"
     ]
    }
   ],
   "source": [
    "link = '''https://www.viva.co.id/berita/metro/996526-anies-tegaskan-pemprov-dki-berwenang-batalkan-reklamasi'''\n",
    "result = scrap_content(link)\n",
    "\n",
    "print('Link    : %s' % link)\n",
    "print('Title   : %s' % result[0])\n",
    "print('Content : %s' % result[1])"
   ]
  },
  {
   "cell_type": "code",
   "execution_count": 11,
   "metadata": {
    "scrolled": true
   },
   "outputs": [
    {
     "name": "stdout",
     "output_type": "stream",
     "text": [
      "\n",
      "=========================================\n",
      "Berita ke :1\n",
      "=========================================\n",
      "Failed to extract content\n",
      "\n",
      "=========================================\n",
      "Berita ke :2\n",
      "=========================================\n",
      "Link    :   https://daerah.sindonews.com/read/1273477/21/polisi-gerebek-pesta-gay-di-cianjur-5-pria-ditangkap-1515903149\n",
      "Title   : Polisi Gerebek Pesta Gay di Cianjur, 5 Pria Ditangkap\n",
      "Content : - Satuan Reserse Kriminal Polres Cianjur mengamankan lima pria yang diduga tengah menggelar pesta seks sesama jenis di Villa Green Apple Garden, Blok F-66, Jalan Mariwati, Desa Sindanglaya, Kecamatan Cipanas, Kabupaten Cianjur, Sabtu 13 Januari 2018 sekitar pukul 22.00 WIB.Kelima pria yang diamankan itu antara lain, AAWA (49) warga Balong Gede, Kota Bandung, AR (20) warga Desa Sayang, Cianjur, DA (16)warga Desa Sayang, Cianjur, DS (38) warga Desa Cimacan, Kecamatan Cipanas, Cianjur, dan Usep (33) warga Desa Gadog, Kecamatan Pacet, Cianjur.Kabid Humas Polda Jabar Kombes Pol Yusri Yunus mengatakan, penggerebekan dilakukan setelah Satreskrim Polres Cianjur mendapat informasi dari masyarakat tentang aktivitas mencurigakan di sebuah villa. Personel Satreskrim lalu mendatangi Villa Green Apple Garden pada Sabtu (13/1/2018) sekitar pukul 22.00 WIB.\"Di salah satu vila petugas mendapati lima pria sedang pesta minuman keras. Mereka diduga melakukan pesta seks sejenis. Petugas Satreskrim Polres Cianjur juga mengamankan beberapa botol minuman keras dan alat kontrasepsi di lokasi penggerebekan,\" kata Yusri.Barang bukti yang diamankan, lanjut Yusri, sejumlah telepon seluler (ponsel), lima celana dalam, kondom, tisu perangsang, pelumas, dua botol parfum, dua botol handbody, 10 botol Anggur Merah, handuk, dan selimut. \"Saat ini kelima pria itu masih diperiksa intensif,\" tegas Yusri.\n",
      "\n",
      "=========================================\n",
      "Berita ke :3\n",
      "=========================================\n",
      "Failed to extract content\n",
      "\n",
      "=========================================\n",
      "Berita ke :4\n",
      "=========================================\n",
      "Link    :   http://nusantara.rmol.co/read/2018/01/13/322181/Warna-Pilkada-Jawa-Tengah-Bakal-Adopsi-Kampanye-Jakarta-\n",
      "Title   : Warna Pilkada Jawa Tengah Bakal Adopsi Kampanye Jakarta\n",
      "Content : Warna Pilkada Jawa Tengah Bakal Adopsi Kampanye JakartaRMOL. Pemilihan Gubernur Jawa Tengah (Jateng) diprediksi bakal diwarnai aksi berlabel tiga digit sebagai strategi pemenangan. Terlebih, Sekjen Forum Umat Islam (FUI) Al-Khaththath mengungkapkan aksi 212 seperti di Pilgub DKI Jakarta 2017 lalu akan dicopypaste di Pilkada Serentak 2018.Direktur Indonesia Public Institute (IPI), Karyono Wibowo menilai, dari awal aksi tiga digit yang dikomandoi Presidium Alumni 212 sangat kental mua­tan politiknya.Karyono melihat, ada sejum­lah indikasi yang menunjukkan gerakan Presidium 212 memi­liki agenda politik.Pertama, pada saat Pilgub DKI, gerakan 212 memiliki agenda politik untuk menumbangkan Ahok dengan berbagai isu SARA yang dikemas dengan propaganda.Indikator kedua, propaganda dengan jargon jangan pilih calon kepala daerah yang diusung partai yang mendukung penista agama sudah beredar di berbagai media.Mereka juga membuatpro­paganda jangan pilih partai dan calon presiden yang mendukung penista agama, jangan pilih partai pendukung Perppu No 2 Tahun 2017 tentang Ormas.Ketiga, adanya pengakuan dari Pembina Presidium 212 Kapitra Ampera yang menya­takan dengan tegas, gerakan 212 adalah real politik. \"Ada kata jangan pilih, itu sudah jelas merupakan bagian dari kepentingan politik. Lalu ada lagi narasi jangan pilih parpol pendukung penista agama maka ini apa namanya kalau bukan tendensi politik, ada yang bisa jawab gak?,\" ujar Karyono.Pengamat komunikasi politik dari Universitas Indonesia Ari Junaidi memperkirakan resep kemenangan pasangan Anies Baswedan-Sandiaga Uno di Pilgub DKI Jakarta 2017 lalu akan kembali digunakan partai pengusung Sudirman Said.Sebagaimana diketahui, Sudirman Said maju sebagai cagub Jateng diusung koalisi Partai Gerindra, PKS dan PAN.Gerindra dan PKS merupakan partai politik pengusung Anies-Sandi di Pilgub DKI. Sementara Sudirman Said sebelumnya men­jabat ketua tim sinkronisasi.Sejumlah pihak menilai, ke­menangan Anies-Sandi dis­ebabkan kuatnya isu bermuatan suku, agama, ras dan antargolon­gan yang menyerang petahana Basuki Tjahaja Purnama alias Ahok.\"Saya kira resep kemenangan di Pilgub DKI Jakarta akan di-copy paste Gerindra, PKS dan PAN,\" ujar Ari.Menurut pengajar program S1 dan S2 di UIini, spanduk-spanduk bernada provokatif kini sudah banyak bermunculan di Jawa Tengah. Isinya, menyerang PDIP dan calon non-muslim.\"Saya tidak tahu pasti apakah itu disengaja atau tidak. Tapi mengatasnamakan ormas dan LSM, menolak kehadiran calon non-muslim serta anti-PDIP,\" ucapnya.Munculnya spanduk-spanduk itu, jelas Ari, menunjukkan kam­panye bermuatan SARA mulai menggejala di daerah-daerah yang akan menggelar pilkada.Sebelumnya, Sekjen FUI Al-Khaththath menyatakan kekecewaannya kepada sejum­lah partai di Pilkada 2018. Ini dikarenakan rekomendasi dari Alumni 212 terkait pencalonan kepala daerah di Pilkada 2018 tak dikabulkan.Hal itu disampaikan saat diamenghadiri jumpa pers La Nyalla di Restoran Mbok Berek, Jalan Prof Dr Soepomo, Tebet, Jakarta Selatan, Selasa (11/1) lalu.Saat itu, Al-Khaththath mem­beberkan tiga parpol tidak mengabulkan rekomendasi lima calon kepala daerah dari Alumni 212.Padahal, lanjut Al-Khaththath, Imam Besar Front Pembela Islam (FPI) Habib Rizieq, yang saat ini berada di Arab Saudi, berpesan agar semangat 212 di DKI ditularkan ke daerah lain. Habib Rizieq menitipkan pesan kepada tiga ketum partai itu agar mengusung calon yang direko­mendasikan para ulama.Pesan Habib Rizieq kepada ketiga ketum itu adalah partai-partai mereka menggunakan metode sama untuk mencapai kemenangan di Pilgub DKI. Rizieq ingin agar metode itu ditiru di pilkada lainnya.\"Pesan Habib Rizieq ketika saya pergi ke Mekkah, meminta kepada tiga pimpinan partai su­paya meng-copas (copy-paste) di Jakarta supaya mendapatkan kemenangan di provinsi lain. Nah, tentunya saya nggak tahu apakah ada mispersepsi seolah-olah kita mendukung dengan cek kosong. Mungkin pemahaman mereka seperti itu,\" tutur Al-Khaththath.\"Kita mendukung munculnya Gubernur Anies-Sandi dengan semangat 212, semangat Al-Maidah 51. Kita berharap hal itu terjadi di tempat-tempat lain,\" imbuhnya.Al-Khaththath pun mengungkapkan, isi pertemuan dengan tiga ketum partai yang terjadi di rumah dinas salah satu ketum partai. Para ketum itu mengata­kan ada provinsi tertentu yang tidak bisa menggunakan metode seperti pada Pilgub DKI, teru­tama provinsi yang masyarakat Islamnya tidak dominan.\"(Kata tiga ketum itu) Kita tidak mungkin lakukan itu misalnya di Sulut, Papua, NTT. Kita (Alumni 212) maklumi tapi kalau itu terjadi di Jawa Timur, pusing. Banyak komplain dari bawah nyampai ke saya,\" ung­kap Al-Khaththath.\"Ditunjukkan di berbagai provinsi, ditunjukkan gambar-gambar yang koalisi tidak sesuai dengan apa yang kita dukung. Termasuk keluhan-keluhannya,\" tambah dia.Para simpatisan Alumni 212, disebut Al-Khaththath, meminta agar ulama menegur tiga partai itu. Sebelum masalah ramai, Alumni 212 lalu menawar ke­pada pimpinan partai-partai itu dengan meminta lima daerah saja yang hanya perlu dikabulkan.\"Jangankan lain-lain, yang lima saja kita minta tidak dir­espons dengan baik. Bahkan saya tungguin agar rekom itu ke luar sampai jam 2 malam di Cilandak, Ragunan. Tidak ke lu­ar juga seadanya, jadi ada apa?\" tutup Al-Khaththath. ***\n",
      "\n",
      "=========================================\n",
      "Berita ke :5\n",
      "=========================================\n",
      "Link    :   https://news.okezone.com/read/2018/01/12/337/1844253/alumni-212-tolong-pan-pks-gerindra-solid-jangan-campur-dengan-partai-penista-agama\n",
      "Title   : Alumni 212: Tolong PAN, PKS, Gerindra Solid, Jangan Campur dengan Partai Penista Agama : Okezone News\n",
      "Content : JAKARTA - Ketua Presidium Alumni 212, Slamet Maarif mengatakan, pihaknya belum pernah memberikan rekomendasi nama bakal calon yang akan bertarung di Pilkada Serentak 2018. Tapi, mereka meminta agar Partai Gerindra, PAN dan PKS mempertahankan koalisinya hingga Pemilu 2019.“Dari presidum sendiri saya belum pernah merekomendasikan satu nama pun di pilkada manapun. Yang saya ajukan saya buka dialog dengan teman-teman partai baik pimpinan partai yang saya ikut hadir, itu menginginkan bahwa koalisi partai 212 PAN, PKS, Gerindra itu tolong dipertahankan tolong solid di 2019,” ujar Slamet di sela demo ke Kantor Facebook Indonesia, Jalan Gatot Subroto, Jakarta Selatan, Jumat (12/1/2018).Gerindra, PAN dan PKS diketahui sering berseberangan dengan koalisi pro pemerintah. Bahkan, Gerindra dan PKS masih konsisten menjadi oposisi.Slamet mengatakan, pihaknya menginginkan di Pilkada 2018 terutama di Provinsi Jawa Tengah, Jawa Barat, Jawa Timur, Sumatera Utara koalisi PAN, Gerindra, PKS tidaklah pecah.“Adapun kebijakan partai berubah itu hak mereka, tapi harus tahu konsekuensi ketika kami (alumni) 212 menginginkan tiga partai ini solid dan terakomodir ada penilaian partai ini, tanpa mencampur adukan dengan partai penista agama,” ujar Slamet.“Tapi bercampur dengan partai penista agama ya konsekuensi nya kita tidak akan dukung sebetulnya kita objektif saja lah,”paparnya.Selain itu, Slamet juga menyayangkan sikap Partai Gerindra dan PKS yang mendukung Saifullah Yusuf alias Gus Ipul-Puti Guntur Soekarno yang berkoalisi dengan PDIP dan PKB.“Ya sebagai umat Islam alumni 212 kami menyayangkan. Dari koalsi kami partai 212 tidak menyalonkan bahkan ikut bergabung. Tapi secara resmi di akhir Januari kita akan musyawarah untuk menetukan sikap 212 terhadap Pilkada 2018,” paparnya“Ada Mukernas nanti. Hasil Mukernas itu akan membicarakan wilayah mana saja yang akan kita dukung kita support untuk kemenangan alumni 212,” sambugnya.\n"
     ]
    }
   ],
   "source": [
    "count = 1\n",
    "for link in google_news_link[:5]:\n",
    "    link = '''%s''' % link\n",
    "    result = scrap_content(link)\n",
    "    \n",
    "    if result[1]:\n",
    "        print('\\n=========================================')\n",
    "        print('Berita ke :%d' %count)\n",
    "        print('=========================================')\n",
    "        print('Link    : %s' % link)\n",
    "        print('Title   : %s' % result[0])\n",
    "        print('Content : %s' % result[1])\n",
    "    else:\n",
    "        print('\\n=========================================')\n",
    "        print('Berita ke :%d' %count)\n",
    "        print('=========================================')\n",
    "        print('Failed to extract content')\n",
    "        \n",
    "    count = count + 1"
   ]
  },
  {
   "cell_type": "markdown",
   "metadata": {},
   "source": [
    "### Save to file"
   ]
  },
  {
   "cell_type": "code",
   "execution_count": 13,
   "metadata": {
    "scrolled": true
   },
   "outputs": [
    {
     "name": "stdout",
     "output_type": "stream",
     "text": [
      "1 / 126 : Failed\n",
      "2 / 126 : Succes\n",
      "3 / 126 : Failed\n",
      "4 / 126 : Succes\n",
      "5 / 126 : Succes\n",
      "6 / 126 : Failed\n",
      "7 / 126 : Failed\n",
      "8 / 126 : Failed\n",
      "9 / 126 : Succes\n",
      "10 / 126 : Failed\n",
      "11 / 126 : Failed\n",
      "12 / 126 : Failed\n",
      "13 / 126 : Failed\n",
      "14 / 126 : Succes\n",
      "15 / 126 : Failed\n",
      "16 / 126 : Succes\n",
      "17 / 126 : Failed\n",
      "18 / 126 : Failed\n",
      "19 / 126 : Failed\n",
      "20 / 126 : Failed\n",
      "21 / 126 : Succes\n",
      "22 / 126 : Succes\n",
      "23 / 126 : Failed\n",
      "24 / 126 : Failed\n",
      "25 / 126 : Succes\n",
      "26 / 126 : Succes\n",
      "27 / 126 : Succes\n",
      "28 / 126 : Failed\n",
      "29 / 126 : Succes\n",
      "30 / 126 : Succes\n",
      "31 / 126 : Failed\n",
      "32 / 126 : Succes\n",
      "33 / 126 : Failed\n",
      "34 / 126 : Failed\n",
      "35 / 126 : Failed\n",
      "36 / 126 : Failed\n",
      "37 / 126 : Failed\n",
      "38 / 126 : Succes\n",
      "39 / 126 : Succes\n",
      "40 / 126 : Failed\n",
      "41 / 126 : Failed\n",
      "42 / 126 : Failed\n",
      "43 / 126 : Succes\n",
      "44 / 126 : Succes\n",
      "45 / 126 : Failed\n",
      "46 / 126 : Failed\n",
      "47 / 126 : Failed\n",
      "48 / 126 : Succes\n",
      "49 / 126 : Succes\n",
      "50 / 126 : Failed\n",
      "51 / 126 : Succes\n",
      "52 / 126 : Failed\n",
      "53 / 126 : Succes\n",
      "54 / 126 : Failed\n",
      "55 / 126 : Succes\n",
      "56 / 126 : Failed\n",
      "57 / 126 : Failed\n",
      "58 / 126 : Failed\n",
      "59 / 126 : Failed\n",
      "60 / 126 : Succes\n",
      "61 / 126 : Succes\n",
      "62 / 126 : Failed\n",
      "63 / 126 : Succes\n",
      "64 / 126 : Succes\n",
      "65 / 126 : Succes\n",
      "66 / 126 : Failed\n",
      "67 / 126 : Failed\n",
      "68 / 126 : Succes\n",
      "69 / 126 : Failed\n",
      "70 / 126 : Succes\n",
      "71 / 126 : Succes\n",
      "72 / 126 : Succes\n",
      "73 / 126 : Succes\n",
      "74 / 126 : Failed\n"
     ]
    },
    {
     "ename": "SSLError",
     "evalue": "('The read operation timed out',)",
     "output_type": "error",
     "traceback": [
      "\u001b[0;31m---------------------------------------------------------------------------\u001b[0m",
      "\u001b[0;31mSSLError\u001b[0m                                  Traceback (most recent call last)",
      "\u001b[0;32m<ipython-input-13-b451d1e512a6>\u001b[0m in \u001b[0;36m<module>\u001b[0;34m()\u001b[0m\n\u001b[1;32m      5\u001b[0m \u001b[0;32mfor\u001b[0m \u001b[0mlink\u001b[0m \u001b[0;32min\u001b[0m \u001b[0mgoogle_news_link\u001b[0m\u001b[0;34m:\u001b[0m\u001b[0;34m\u001b[0m\u001b[0m\n\u001b[1;32m      6\u001b[0m     \u001b[0mlink\u001b[0m \u001b[0;34m=\u001b[0m \u001b[0;34m'''%s'''\u001b[0m \u001b[0;34m%\u001b[0m \u001b[0mlink\u001b[0m\u001b[0;34m\u001b[0m\u001b[0m\n\u001b[0;32m----> 7\u001b[0;31m     \u001b[0mresult\u001b[0m \u001b[0;34m=\u001b[0m \u001b[0mscrap_content\u001b[0m\u001b[0;34m(\u001b[0m\u001b[0mlink\u001b[0m\u001b[0;34m)\u001b[0m\u001b[0;34m\u001b[0m\u001b[0m\n\u001b[0m\u001b[1;32m      8\u001b[0m \u001b[0;34m\u001b[0m\u001b[0m\n\u001b[1;32m      9\u001b[0m     \u001b[0;32mif\u001b[0m \u001b[0mresult\u001b[0m\u001b[0;34m[\u001b[0m\u001b[0;36m1\u001b[0m\u001b[0;34m]\u001b[0m\u001b[0;34m:\u001b[0m\u001b[0;34m\u001b[0m\u001b[0m\n",
      "\u001b[0;32m<ipython-input-8-bb0b457254c4>\u001b[0m in \u001b[0;36mscrap_content\u001b[0;34m(link)\u001b[0m\n\u001b[1;32m      1\u001b[0m \u001b[0;32mdef\u001b[0m \u001b[0mscrap_content\u001b[0m\u001b[0;34m(\u001b[0m\u001b[0mlink\u001b[0m\u001b[0;34m)\u001b[0m\u001b[0;34m:\u001b[0m\u001b[0;34m\u001b[0m\u001b[0m\n\u001b[1;32m      2\u001b[0m     \u001b[0mg\u001b[0m \u001b[0;34m=\u001b[0m \u001b[0mGoose\u001b[0m\u001b[0;34m(\u001b[0m\u001b[0;34m)\u001b[0m\u001b[0;34m\u001b[0m\u001b[0m\n\u001b[0;32m----> 3\u001b[0;31m     \u001b[0mextract\u001b[0m \u001b[0;34m=\u001b[0m \u001b[0mg\u001b[0m\u001b[0;34m.\u001b[0m\u001b[0mextract\u001b[0m\u001b[0;34m(\u001b[0m\u001b[0murl\u001b[0m\u001b[0;34m=\u001b[0m\u001b[0mlink\u001b[0m\u001b[0;34m)\u001b[0m\u001b[0;34m\u001b[0m\u001b[0m\n\u001b[0m\u001b[1;32m      4\u001b[0m \u001b[0;34m\u001b[0m\u001b[0m\n\u001b[1;32m      5\u001b[0m     \u001b[0mtitle\u001b[0m \u001b[0;34m=\u001b[0m \u001b[0mextract\u001b[0m\u001b[0;34m.\u001b[0m\u001b[0mtitle\u001b[0m\u001b[0;34m\u001b[0m\u001b[0m\n",
      "\u001b[0;32m/usr/local/lib/python2.7/dist-packages/goose_extractor-1.0.25-py2.7.egg/goose/__init__.pyc\u001b[0m in \u001b[0;36mextract\u001b[0;34m(self, url, raw_html)\u001b[0m\n\u001b[1;32m     54\u001b[0m         \"\"\"\n\u001b[1;32m     55\u001b[0m         \u001b[0mcc\u001b[0m \u001b[0;34m=\u001b[0m \u001b[0mCrawlCandidate\u001b[0m\u001b[0;34m(\u001b[0m\u001b[0mself\u001b[0m\u001b[0;34m.\u001b[0m\u001b[0mconfig\u001b[0m\u001b[0;34m,\u001b[0m \u001b[0murl\u001b[0m\u001b[0;34m,\u001b[0m \u001b[0mraw_html\u001b[0m\u001b[0;34m)\u001b[0m\u001b[0;34m\u001b[0m\u001b[0m\n\u001b[0;32m---> 56\u001b[0;31m         \u001b[0;32mreturn\u001b[0m \u001b[0mself\u001b[0m\u001b[0;34m.\u001b[0m\u001b[0mcrawl\u001b[0m\u001b[0;34m(\u001b[0m\u001b[0mcc\u001b[0m\u001b[0;34m)\u001b[0m\u001b[0;34m\u001b[0m\u001b[0m\n\u001b[0m\u001b[1;32m     57\u001b[0m \u001b[0;34m\u001b[0m\u001b[0m\n\u001b[1;32m     58\u001b[0m     \u001b[0;32mdef\u001b[0m \u001b[0mshutdown_network\u001b[0m\u001b[0;34m(\u001b[0m\u001b[0mself\u001b[0m\u001b[0;34m)\u001b[0m\u001b[0;34m:\u001b[0m\u001b[0;34m\u001b[0m\u001b[0m\n",
      "\u001b[0;32m/usr/local/lib/python2.7/dist-packages/goose_extractor-1.0.25-py2.7.egg/goose/__init__.pyc\u001b[0m in \u001b[0;36mcrawl\u001b[0;34m(self, crawl_candiate)\u001b[0m\n\u001b[1;32m     64\u001b[0m         \u001b[0;32mtry\u001b[0m\u001b[0;34m:\u001b[0m\u001b[0;34m\u001b[0m\u001b[0m\n\u001b[1;32m     65\u001b[0m             \u001b[0mcrawler\u001b[0m \u001b[0;34m=\u001b[0m \u001b[0mCrawler\u001b[0m\u001b[0;34m(\u001b[0m\u001b[0mself\u001b[0m\u001b[0;34m.\u001b[0m\u001b[0mconfig\u001b[0m\u001b[0;34m)\u001b[0m\u001b[0;34m\u001b[0m\u001b[0m\n\u001b[0;32m---> 66\u001b[0;31m             \u001b[0marticle\u001b[0m \u001b[0;34m=\u001b[0m \u001b[0mcrawler\u001b[0m\u001b[0;34m.\u001b[0m\u001b[0mcrawl\u001b[0m\u001b[0;34m(\u001b[0m\u001b[0mcrawl_candiate\u001b[0m\u001b[0;34m)\u001b[0m\u001b[0;34m\u001b[0m\u001b[0m\n\u001b[0m\u001b[1;32m     67\u001b[0m         \u001b[0;32mexcept\u001b[0m \u001b[0;34m(\u001b[0m\u001b[0mUnicodeDecodeError\u001b[0m\u001b[0;34m,\u001b[0m \u001b[0mValueError\u001b[0m\u001b[0;34m)\u001b[0m\u001b[0;34m:\u001b[0m\u001b[0;34m\u001b[0m\u001b[0m\n\u001b[1;32m     68\u001b[0m             \u001b[0mself\u001b[0m\u001b[0;34m.\u001b[0m\u001b[0mconfig\u001b[0m\u001b[0;34m.\u001b[0m\u001b[0mparser_class\u001b[0m \u001b[0;34m=\u001b[0m \u001b[0mparsers\u001b[0m\u001b[0;34m[\u001b[0m\u001b[0;36m0\u001b[0m\u001b[0;34m]\u001b[0m\u001b[0;34m\u001b[0m\u001b[0m\n",
      "\u001b[0;32m/usr/local/lib/python2.7/dist-packages/goose_extractor-1.0.25-py2.7.egg/goose/crawler.pyc\u001b[0m in \u001b[0;36mcrawl\u001b[0;34m(self, crawl_candidate)\u001b[0m\n\u001b[1;32m    115\u001b[0m \u001b[0;34m\u001b[0m\u001b[0m\n\u001b[1;32m    116\u001b[0m         \u001b[0;31m# raw html\u001b[0m\u001b[0;34m\u001b[0m\u001b[0;34m\u001b[0m\u001b[0m\n\u001b[0;32m--> 117\u001b[0;31m         \u001b[0mraw_html\u001b[0m \u001b[0;34m=\u001b[0m \u001b[0mself\u001b[0m\u001b[0;34m.\u001b[0m\u001b[0mget_html\u001b[0m\u001b[0;34m(\u001b[0m\u001b[0mcrawl_candidate\u001b[0m\u001b[0;34m,\u001b[0m \u001b[0mparse_candidate\u001b[0m\u001b[0;34m)\u001b[0m\u001b[0;34m\u001b[0m\u001b[0m\n\u001b[0m\u001b[1;32m    118\u001b[0m \u001b[0;34m\u001b[0m\u001b[0m\n\u001b[1;32m    119\u001b[0m         \u001b[0;32mif\u001b[0m \u001b[0mraw_html\u001b[0m \u001b[0;32mis\u001b[0m \u001b[0mNone\u001b[0m\u001b[0;34m:\u001b[0m\u001b[0;34m\u001b[0m\u001b[0m\n",
      "\u001b[0;32m/usr/local/lib/python2.7/dist-packages/goose_extractor-1.0.25-py2.7.egg/goose/crawler.pyc\u001b[0m in \u001b[0;36mget_html\u001b[0;34m(self, crawl_candidate, parsing_candidate)\u001b[0m\n\u001b[1;32m    214\u001b[0m \u001b[0;34m\u001b[0m\u001b[0m\n\u001b[1;32m    215\u001b[0m         \u001b[0;31m# fetch HTML\u001b[0m\u001b[0;34m\u001b[0m\u001b[0;34m\u001b[0m\u001b[0m\n\u001b[0;32m--> 216\u001b[0;31m         \u001b[0mhtml\u001b[0m \u001b[0;34m=\u001b[0m \u001b[0mself\u001b[0m\u001b[0;34m.\u001b[0m\u001b[0mhtmlfetcher\u001b[0m\u001b[0;34m.\u001b[0m\u001b[0mget_html\u001b[0m\u001b[0;34m(\u001b[0m\u001b[0mparsing_candidate\u001b[0m\u001b[0;34m.\u001b[0m\u001b[0murl\u001b[0m\u001b[0;34m)\u001b[0m\u001b[0;34m\u001b[0m\u001b[0m\n\u001b[0m\u001b[1;32m    217\u001b[0m         self.article.additional_data.update({\n\u001b[1;32m    218\u001b[0m             \u001b[0;34m'request'\u001b[0m\u001b[0;34m:\u001b[0m \u001b[0mself\u001b[0m\u001b[0;34m.\u001b[0m\u001b[0mhtmlfetcher\u001b[0m\u001b[0;34m.\u001b[0m\u001b[0mrequest\u001b[0m\u001b[0;34m,\u001b[0m\u001b[0;34m\u001b[0m\u001b[0m\n",
      "\u001b[0;32m/usr/local/lib/python2.7/dist-packages/goose_extractor-1.0.25-py2.7.egg/goose/network.pyc\u001b[0m in \u001b[0;36mget_html\u001b[0;34m(self, url)\u001b[0m\n\u001b[1;32m     57\u001b[0m         \u001b[0;31m# read the result content\u001b[0m\u001b[0;34m\u001b[0m\u001b[0;34m\u001b[0m\u001b[0m\n\u001b[1;32m     58\u001b[0m         \u001b[0;32mif\u001b[0m \u001b[0mself\u001b[0m\u001b[0;34m.\u001b[0m\u001b[0mresult\u001b[0m \u001b[0;32mis\u001b[0m \u001b[0;32mnot\u001b[0m \u001b[0mNone\u001b[0m\u001b[0;34m:\u001b[0m\u001b[0;34m\u001b[0m\u001b[0m\n\u001b[0;32m---> 59\u001b[0;31m             \u001b[0;32mreturn\u001b[0m \u001b[0mself\u001b[0m\u001b[0;34m.\u001b[0m\u001b[0mresult\u001b[0m\u001b[0;34m.\u001b[0m\u001b[0mread\u001b[0m\u001b[0;34m(\u001b[0m\u001b[0;34m)\u001b[0m\u001b[0;34m\u001b[0m\u001b[0m\n\u001b[0m\u001b[1;32m     60\u001b[0m         \u001b[0;32mreturn\u001b[0m \u001b[0mNone\u001b[0m\u001b[0;34m\u001b[0m\u001b[0m\n",
      "\u001b[0;32m/usr/lib/python2.7/socket.pyc\u001b[0m in \u001b[0;36mread\u001b[0;34m(self, size)\u001b[0m\n\u001b[1;32m    353\u001b[0m             \u001b[0;32mwhile\u001b[0m \u001b[0mTrue\u001b[0m\u001b[0;34m:\u001b[0m\u001b[0;34m\u001b[0m\u001b[0m\n\u001b[1;32m    354\u001b[0m                 \u001b[0;32mtry\u001b[0m\u001b[0;34m:\u001b[0m\u001b[0;34m\u001b[0m\u001b[0m\n\u001b[0;32m--> 355\u001b[0;31m                     \u001b[0mdata\u001b[0m \u001b[0;34m=\u001b[0m \u001b[0mself\u001b[0m\u001b[0;34m.\u001b[0m\u001b[0m_sock\u001b[0m\u001b[0;34m.\u001b[0m\u001b[0mrecv\u001b[0m\u001b[0;34m(\u001b[0m\u001b[0mrbufsize\u001b[0m\u001b[0;34m)\u001b[0m\u001b[0;34m\u001b[0m\u001b[0m\n\u001b[0m\u001b[1;32m    356\u001b[0m                 \u001b[0;32mexcept\u001b[0m \u001b[0merror\u001b[0m\u001b[0;34m,\u001b[0m \u001b[0me\u001b[0m\u001b[0;34m:\u001b[0m\u001b[0;34m\u001b[0m\u001b[0m\n\u001b[1;32m    357\u001b[0m                     \u001b[0;32mif\u001b[0m \u001b[0me\u001b[0m\u001b[0;34m.\u001b[0m\u001b[0margs\u001b[0m\u001b[0;34m[\u001b[0m\u001b[0;36m0\u001b[0m\u001b[0;34m]\u001b[0m \u001b[0;34m==\u001b[0m \u001b[0mEINTR\u001b[0m\u001b[0;34m:\u001b[0m\u001b[0;34m\u001b[0m\u001b[0m\n",
      "\u001b[0;32m/usr/lib/python2.7/httplib.pyc\u001b[0m in \u001b[0;36mread\u001b[0;34m(self, amt)\u001b[0m\n\u001b[1;32m    586\u001b[0m \u001b[0;34m\u001b[0m\u001b[0m\n\u001b[1;32m    587\u001b[0m         \u001b[0;32mif\u001b[0m \u001b[0mself\u001b[0m\u001b[0;34m.\u001b[0m\u001b[0mchunked\u001b[0m\u001b[0;34m:\u001b[0m\u001b[0;34m\u001b[0m\u001b[0m\n\u001b[0;32m--> 588\u001b[0;31m             \u001b[0;32mreturn\u001b[0m \u001b[0mself\u001b[0m\u001b[0;34m.\u001b[0m\u001b[0m_read_chunked\u001b[0m\u001b[0;34m(\u001b[0m\u001b[0mamt\u001b[0m\u001b[0;34m)\u001b[0m\u001b[0;34m\u001b[0m\u001b[0m\n\u001b[0m\u001b[1;32m    589\u001b[0m \u001b[0;34m\u001b[0m\u001b[0m\n\u001b[1;32m    590\u001b[0m         \u001b[0;32mif\u001b[0m \u001b[0mamt\u001b[0m \u001b[0;32mis\u001b[0m \u001b[0mNone\u001b[0m\u001b[0;34m:\u001b[0m\u001b[0;34m\u001b[0m\u001b[0m\n",
      "\u001b[0;32m/usr/lib/python2.7/httplib.pyc\u001b[0m in \u001b[0;36m_read_chunked\u001b[0;34m(self, amt)\u001b[0m\n\u001b[1;32m    650\u001b[0m                 \u001b[0;32mreturn\u001b[0m \u001b[0;34m''\u001b[0m\u001b[0;34m.\u001b[0m\u001b[0mjoin\u001b[0m\u001b[0;34m(\u001b[0m\u001b[0mvalue\u001b[0m\u001b[0;34m)\u001b[0m\u001b[0;34m\u001b[0m\u001b[0m\n\u001b[1;32m    651\u001b[0m             \u001b[0;32melif\u001b[0m \u001b[0mamt\u001b[0m \u001b[0;34m==\u001b[0m \u001b[0mchunk_left\u001b[0m\u001b[0;34m:\u001b[0m\u001b[0;34m\u001b[0m\u001b[0m\n\u001b[0;32m--> 652\u001b[0;31m                 \u001b[0mvalue\u001b[0m\u001b[0;34m.\u001b[0m\u001b[0mappend\u001b[0m\u001b[0;34m(\u001b[0m\u001b[0mself\u001b[0m\u001b[0;34m.\u001b[0m\u001b[0m_safe_read\u001b[0m\u001b[0;34m(\u001b[0m\u001b[0mamt\u001b[0m\u001b[0;34m)\u001b[0m\u001b[0;34m)\u001b[0m\u001b[0;34m\u001b[0m\u001b[0m\n\u001b[0m\u001b[1;32m    653\u001b[0m                 \u001b[0mself\u001b[0m\u001b[0;34m.\u001b[0m\u001b[0m_safe_read\u001b[0m\u001b[0;34m(\u001b[0m\u001b[0;36m2\u001b[0m\u001b[0;34m)\u001b[0m  \u001b[0;31m# toss the CRLF at the end of the chunk\u001b[0m\u001b[0;34m\u001b[0m\u001b[0m\n\u001b[1;32m    654\u001b[0m                 \u001b[0mself\u001b[0m\u001b[0;34m.\u001b[0m\u001b[0mchunk_left\u001b[0m \u001b[0;34m=\u001b[0m \u001b[0mNone\u001b[0m\u001b[0;34m\u001b[0m\u001b[0m\n",
      "\u001b[0;32m/usr/lib/python2.7/httplib.pyc\u001b[0m in \u001b[0;36m_safe_read\u001b[0;34m(self, amt)\u001b[0m\n\u001b[1;32m    701\u001b[0m         \u001b[0ms\u001b[0m \u001b[0;34m=\u001b[0m \u001b[0;34m[\u001b[0m\u001b[0;34m]\u001b[0m\u001b[0;34m\u001b[0m\u001b[0m\n\u001b[1;32m    702\u001b[0m         \u001b[0;32mwhile\u001b[0m \u001b[0mamt\u001b[0m \u001b[0;34m>\u001b[0m \u001b[0;36m0\u001b[0m\u001b[0;34m:\u001b[0m\u001b[0;34m\u001b[0m\u001b[0m\n\u001b[0;32m--> 703\u001b[0;31m             \u001b[0mchunk\u001b[0m \u001b[0;34m=\u001b[0m \u001b[0mself\u001b[0m\u001b[0;34m.\u001b[0m\u001b[0mfp\u001b[0m\u001b[0;34m.\u001b[0m\u001b[0mread\u001b[0m\u001b[0;34m(\u001b[0m\u001b[0mmin\u001b[0m\u001b[0;34m(\u001b[0m\u001b[0mamt\u001b[0m\u001b[0;34m,\u001b[0m \u001b[0mMAXAMOUNT\u001b[0m\u001b[0;34m)\u001b[0m\u001b[0;34m)\u001b[0m\u001b[0;34m\u001b[0m\u001b[0m\n\u001b[0m\u001b[1;32m    704\u001b[0m             \u001b[0;32mif\u001b[0m \u001b[0;32mnot\u001b[0m \u001b[0mchunk\u001b[0m\u001b[0;34m:\u001b[0m\u001b[0;34m\u001b[0m\u001b[0m\n\u001b[1;32m    705\u001b[0m                 \u001b[0;32mraise\u001b[0m \u001b[0mIncompleteRead\u001b[0m\u001b[0;34m(\u001b[0m\u001b[0;34m''\u001b[0m\u001b[0;34m.\u001b[0m\u001b[0mjoin\u001b[0m\u001b[0;34m(\u001b[0m\u001b[0ms\u001b[0m\u001b[0;34m)\u001b[0m\u001b[0;34m,\u001b[0m \u001b[0mamt\u001b[0m\u001b[0;34m)\u001b[0m\u001b[0;34m\u001b[0m\u001b[0m\n",
      "\u001b[0;32m/usr/lib/python2.7/socket.pyc\u001b[0m in \u001b[0;36mread\u001b[0;34m(self, size)\u001b[0m\n\u001b[1;32m    382\u001b[0m                 \u001b[0;31m# fragmentation issues on many platforms.\u001b[0m\u001b[0;34m\u001b[0m\u001b[0;34m\u001b[0m\u001b[0m\n\u001b[1;32m    383\u001b[0m                 \u001b[0;32mtry\u001b[0m\u001b[0;34m:\u001b[0m\u001b[0;34m\u001b[0m\u001b[0m\n\u001b[0;32m--> 384\u001b[0;31m                     \u001b[0mdata\u001b[0m \u001b[0;34m=\u001b[0m \u001b[0mself\u001b[0m\u001b[0;34m.\u001b[0m\u001b[0m_sock\u001b[0m\u001b[0;34m.\u001b[0m\u001b[0mrecv\u001b[0m\u001b[0;34m(\u001b[0m\u001b[0mleft\u001b[0m\u001b[0;34m)\u001b[0m\u001b[0;34m\u001b[0m\u001b[0m\n\u001b[0m\u001b[1;32m    385\u001b[0m                 \u001b[0;32mexcept\u001b[0m \u001b[0merror\u001b[0m\u001b[0;34m,\u001b[0m \u001b[0me\u001b[0m\u001b[0;34m:\u001b[0m\u001b[0;34m\u001b[0m\u001b[0m\n\u001b[1;32m    386\u001b[0m                     \u001b[0;32mif\u001b[0m \u001b[0me\u001b[0m\u001b[0;34m.\u001b[0m\u001b[0margs\u001b[0m\u001b[0;34m[\u001b[0m\u001b[0;36m0\u001b[0m\u001b[0;34m]\u001b[0m \u001b[0;34m==\u001b[0m \u001b[0mEINTR\u001b[0m\u001b[0;34m:\u001b[0m\u001b[0;34m\u001b[0m\u001b[0m\n",
      "\u001b[0;32m/usr/lib/python2.7/ssl.pyc\u001b[0m in \u001b[0;36mrecv\u001b[0;34m(self, buflen, flags)\u001b[0m\n\u001b[1;32m    754\u001b[0m                     \u001b[0;34m\"non-zero flags not allowed in calls to recv() on %s\"\u001b[0m \u001b[0;34m%\u001b[0m\u001b[0;34m\u001b[0m\u001b[0m\n\u001b[1;32m    755\u001b[0m                     self.__class__)\n\u001b[0;32m--> 756\u001b[0;31m             \u001b[0;32mreturn\u001b[0m \u001b[0mself\u001b[0m\u001b[0;34m.\u001b[0m\u001b[0mread\u001b[0m\u001b[0;34m(\u001b[0m\u001b[0mbuflen\u001b[0m\u001b[0;34m)\u001b[0m\u001b[0;34m\u001b[0m\u001b[0m\n\u001b[0m\u001b[1;32m    757\u001b[0m         \u001b[0;32melse\u001b[0m\u001b[0;34m:\u001b[0m\u001b[0;34m\u001b[0m\u001b[0m\n\u001b[1;32m    758\u001b[0m             \u001b[0;32mreturn\u001b[0m \u001b[0mself\u001b[0m\u001b[0;34m.\u001b[0m\u001b[0m_sock\u001b[0m\u001b[0;34m.\u001b[0m\u001b[0mrecv\u001b[0m\u001b[0;34m(\u001b[0m\u001b[0mbuflen\u001b[0m\u001b[0;34m,\u001b[0m \u001b[0mflags\u001b[0m\u001b[0;34m)\u001b[0m\u001b[0;34m\u001b[0m\u001b[0m\n",
      "\u001b[0;32m/usr/lib/python2.7/ssl.pyc\u001b[0m in \u001b[0;36mread\u001b[0;34m(self, len, buffer)\u001b[0m\n\u001b[1;32m    641\u001b[0m                 \u001b[0mv\u001b[0m \u001b[0;34m=\u001b[0m \u001b[0mself\u001b[0m\u001b[0;34m.\u001b[0m\u001b[0m_sslobj\u001b[0m\u001b[0;34m.\u001b[0m\u001b[0mread\u001b[0m\u001b[0;34m(\u001b[0m\u001b[0mlen\u001b[0m\u001b[0;34m,\u001b[0m \u001b[0mbuffer\u001b[0m\u001b[0;34m)\u001b[0m\u001b[0;34m\u001b[0m\u001b[0m\n\u001b[1;32m    642\u001b[0m             \u001b[0;32melse\u001b[0m\u001b[0;34m:\u001b[0m\u001b[0;34m\u001b[0m\u001b[0m\n\u001b[0;32m--> 643\u001b[0;31m                 \u001b[0mv\u001b[0m \u001b[0;34m=\u001b[0m \u001b[0mself\u001b[0m\u001b[0;34m.\u001b[0m\u001b[0m_sslobj\u001b[0m\u001b[0;34m.\u001b[0m\u001b[0mread\u001b[0m\u001b[0;34m(\u001b[0m\u001b[0mlen\u001b[0m\u001b[0;34m)\u001b[0m\u001b[0;34m\u001b[0m\u001b[0m\n\u001b[0m\u001b[1;32m    644\u001b[0m             \u001b[0;32mreturn\u001b[0m \u001b[0mv\u001b[0m\u001b[0;34m\u001b[0m\u001b[0m\n\u001b[1;32m    645\u001b[0m         \u001b[0;32mexcept\u001b[0m \u001b[0mSSLError\u001b[0m \u001b[0;32mas\u001b[0m \u001b[0mx\u001b[0m\u001b[0;34m:\u001b[0m\u001b[0;34m\u001b[0m\u001b[0m\n",
      "\u001b[0;31mSSLError\u001b[0m: ('The read operation timed out',)"
     ]
    }
   ],
   "source": [
    "count = 1\n",
    "count_max = len(google_news_link)\n",
    "path = 'db_news'\n",
    "\n",
    "for link in google_news_link:\n",
    "    link = '''%s''' % link\n",
    "    result = scrap_content(link)\n",
    "    \n",
    "    if result[1]:\n",
    "        try:\n",
    "            filename = os.path.join(path, result[0]+\".txt\")\n",
    "            myfile = open(filename, \"w\")\n",
    "            content = result[1].encode('utf-8')\n",
    "            myfile.write(content)\n",
    "            myfile.close()\n",
    "            print(\"%d / %d : Succes\" % (count,count_max))\n",
    "        except:\n",
    "            print(\"%d / %d : Failed\" % (count,count_max))\n",
    "    else:\n",
    "        print(\"%d / %d : Failed\" % (count,count_max))\n",
    "        \n",
    "    count = count + 1"
   ]
  },
  {
   "cell_type": "code",
   "execution_count": null,
   "metadata": {
    "collapsed": true
   },
   "outputs": [],
   "source": []
  }
 ],
 "metadata": {
  "kernelspec": {
   "display_name": "Python 2",
   "language": "python",
   "name": "python2"
  },
  "language_info": {
   "codemirror_mode": {
    "name": "ipython",
    "version": 2
   },
   "file_extension": ".py",
   "mimetype": "text/x-python",
   "name": "python",
   "nbconvert_exporter": "python",
   "pygments_lexer": "ipython2",
   "version": "2.7.12"
  }
 },
 "nbformat": 4,
 "nbformat_minor": 2
}
