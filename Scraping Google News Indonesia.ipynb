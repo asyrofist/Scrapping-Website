{
 "cells": [
  {
   "cell_type": "markdown",
   "metadata": {},
   "source": [
    "# Scrapping Google News Indonesia and Store to .txt file"
   ]
  },
  {
   "cell_type": "markdown",
   "metadata": {},
   "source": [
    "This script is trying to get links from Google News Indonesia news, and get the content for each link."
   ]
  },
  {
   "cell_type": "markdown",
   "metadata": {},
   "source": [
    "### Libraries"
   ]
  },
  {
   "cell_type": "code",
   "execution_count": 1,
   "metadata": {
    "collapsed": true
   },
   "outputs": [],
   "source": [
    "from pprint import pprint\n",
    "from goose import Goose\n",
    "from bs4 import BeautifulSoup\n",
    "import requests\n",
    "import string\n",
    "import os.path"
   ]
  },
  {
   "cell_type": "markdown",
   "metadata": {},
   "source": [
    "### Test page"
   ]
  },
  {
   "cell_type": "code",
   "execution_count": 2,
   "metadata": {},
   "outputs": [
    {
     "data": {
      "text/plain": [
       "<Response [200]>"
      ]
     },
     "execution_count": 2,
     "metadata": {},
     "output_type": "execute_result"
    }
   ],
   "source": [
    "url = \"https://news.google.com/news/?ned=id_id&gl=ID&hl=id\"\n",
    "page = requests.get(url)\n",
    "page\n",
    "\n",
    "#if response = 200, it mean the page was downloaded succesfully"
   ]
  },
  {
   "cell_type": "markdown",
   "metadata": {},
   "source": [
    "### Parsing page "
   ]
  },
  {
   "cell_type": "code",
   "execution_count": 3,
   "metadata": {},
   "outputs": [
    {
     "data": {
      "text/plain": [
       "[<a aria-level=\"2\" class=\"nuEeue hzdq5d ME7ew\" href=\"https://fajar.co.id/2018/01/13/novel-tegaskan-konflik-la-nyalla-vs-gerindra-tidak-terkait-alumni-212/\" jsname=\"NV4Anc\" role=\"heading\" target=\"_blank\">Novel Tegaskan Konflik La Nyalla Vs Gerindra Tidak Terkait Alumni 212</a>]"
      ]
     },
     "execution_count": 3,
     "metadata": {},
     "output_type": "execute_result"
    }
   ],
   "source": [
    "soup = BeautifulSoup(page.content, 'html.parser')\n",
    "sample = soup.find_all(\"a\", {\"class\" : \"nuEeue\"})\n",
    "sample[:1]"
   ]
  },
  {
   "cell_type": "code",
   "execution_count": 4,
   "metadata": {
    "collapsed": true
   },
   "outputs": [],
   "source": [
    "links = []\n",
    "for x in sample:\n",
    "    links.append(x['href'])"
   ]
  },
  {
   "cell_type": "code",
   "execution_count": 5,
   "metadata": {},
   "outputs": [
    {
     "name": "stdout",
     "output_type": "stream",
     "text": [
      "[u'https://fajar.co.id/2018/01/13/novel-tegaskan-konflik-la-nyalla-vs-gerindra-tidak-terkait-alumni-212/',\n",
      " u'https://news.okezone.com/read/2018/01/12/337/1844253/alumni-212-tolong-pan-pks-gerindra-solid-jangan-campur-dengan-partai-penista-agama',\n",
      " u'http://megapolitan.kompas.com/read/2018/01/14/12272691/anies-malu-kalau-mobilnya-mewah-tetapi-tidak-bayar-pajak']\n"
     ]
    }
   ],
   "source": [
    "pprint(links[:3])"
   ]
  },
  {
   "cell_type": "markdown",
   "metadata": {},
   "source": [
    "### Save link to .txt file"
   ]
  },
  {
   "cell_type": "code",
   "execution_count": 6,
   "metadata": {},
   "outputs": [],
   "source": [
    "str_link = str(links)\n",
    "link_list = str_link.replace(\"u'\",\" \").replace('[','').replace(']','').replace(\"'\",\"\")\n",
    "#pprint(link_list)"
   ]
  },
  {
   "cell_type": "code",
   "execution_count": 7,
   "metadata": {
    "collapsed": true
   },
   "outputs": [],
   "source": [
    "final_link = str(link_list)\n",
    "\n",
    "myfile = open('links.txt','w')\n",
    "myfile.write(final_link)"
   ]
  },
  {
   "cell_type": "markdown",
   "metadata": {},
   "source": [
    "### Get title and content"
   ]
  },
  {
   "cell_type": "code",
   "execution_count": 8,
   "metadata": {},
   "outputs": [],
   "source": [
    "def scrap_content(link):\n",
    "    g = Goose()\n",
    "    extract = g.extract(url=link)\n",
    "    \n",
    "    title = extract.title\n",
    "    \n",
    "    content = extract.cleaned_text\n",
    "    content = content.replace('\\n','').replace(\"\\'\",\"\")\n",
    "    \n",
    "    result = []\n",
    "    result.append(title)\n",
    "    result.append(content)\n",
    "        \n",
    "    return(result)"
   ]
  },
  {
   "cell_type": "code",
   "execution_count": 9,
   "metadata": {},
   "outputs": [],
   "source": [
    "myfile = open('links.txt','r')\n",
    "links = myfile.read().split(',')\n",
    "\n",
    "google_news_link = []\n",
    "for link in links:\n",
    "    google_news_link.append(link)"
   ]
  },
  {
   "cell_type": "markdown",
   "metadata": {},
   "source": [
    "### Testing"
   ]
  },
  {
   "cell_type": "code",
   "execution_count": 10,
   "metadata": {},
   "outputs": [
    {
     "name": "stdout",
     "output_type": "stream",
     "text": [
      "Link    : https://www.viva.co.id/berita/metro/996526-anies-tegaskan-pemprov-dki-berwenang-batalkan-reklamasi\n",
      "Title   : Anies Tegaskan Pemprov DKI Berwenang Batalkan Reklamasi – VIVA\n",
      "Content : VIVA – Gubernur DKI Jakarta Anies Baswedan menegaskan bahwa pembatalan proyek reklamasi berdasarkan peraturan dan undang-undang yang berlaku. Dia merujuk pada pasal 103 dan 104 Peraturan Menteri Agraria dan Badan Pertanahan Nasional Nomor 99 Tahun 1999.\"Di Peraturan Menteri itu dijelaskan tentang prosedur untuk pembatalan Hak Guna Bangunan (HGB). Kita ingin tegaskan bahwa ketika ada cacat administrasi, maka pemegang otoritas wilayah berhak untuk melakukan peninjauan ulang,\" kata Anies ketika ditemui di Jakarta International Expo, Jakarta,  Sabtu malam, 13 Januari 2018.Gubernur juga menyadari bahwa persoalan pembatalan reklamasi itu menjadi perhatian masyarakat. Namun dia menggarisbawahi bahwa dia tahu persis aturan yang digunakan, yang selama ini sudah sering digunakan. Pemerintah Provinsi dalam hal ini akan dengan sangat mudah mengembalikan pajak.\"Tidak ada masalah sama sekali, bukan pakai APBD, bayar pajak itu ada catatan. Bahwa pajak yang masuk secara sekonyong-konyong itu banyak catatan di situ,\" ujarnya.Gubernur mengaku telah berdiskusi dengan Badan Penerimaan dan Retribusi Daerah, dan ternyata memang banyak catatan.\n"
     ]
    }
   ],
   "source": [
    "link = '''https://www.viva.co.id/berita/metro/996526-anies-tegaskan-pemprov-dki-berwenang-batalkan-reklamasi'''\n",
    "result = scrap_content(link)\n",
    "\n",
    "print('Link    : %s' % link)\n",
    "print('Title   : %s' % result[0])\n",
    "print('Content : %s' % result[1])"
   ]
  },
  {
   "cell_type": "code",
   "execution_count": 11,
   "metadata": {
    "scrolled": true
   },
   "outputs": [
    {
     "name": "stdout",
     "output_type": "stream",
     "text": [
      "1 / 128 : Failed\n",
      "2 / 128 : Succes\n",
      "3 / 128 : Failed\n",
      "4 / 128 : Failed\n",
      "5 / 128 : Succes\n"
     ]
    }
   ],
   "source": [
    "count = 1\n",
    "count_max = len(google_news_link)\n",
    "\n",
    "for link in google_news_link[:5]:\n",
    "    link = '''%s''' % link\n",
    "    result = scrap_content(link)\n",
    "    \n",
    "    if result[1]:\n",
    "        print(\"%d / %d : Succes\" % (count,count_max))\n",
    "    else:\n",
    "        print(\"%d / %d : Failed\" % (count,count_max))\n",
    "        \n",
    "    count = count + 1"
   ]
  },
  {
   "cell_type": "markdown",
   "metadata": {},
   "source": [
    "### Save to file"
   ]
  },
  {
   "cell_type": "code",
   "execution_count": 12,
   "metadata": {
    "scrolled": true
   },
   "outputs": [
    {
     "name": "stdout",
     "output_type": "stream",
     "text": [
      "1 / 128 : Failed\n",
      "2 / 128 : Succes\n",
      "3 / 128 : Failed\n",
      "4 / 128 : Failed\n",
      "5 / 128 : Succes\n",
      "6 / 128 : Failed\n",
      "7 / 128 : Succes\n",
      "8 / 128 : Failed\n",
      "9 / 128 : Failed\n",
      "10 / 128 : Failed\n",
      "11 / 128 : Failed\n",
      "12 / 128 : Succes\n",
      "13 / 128 : Failed\n",
      "14 / 128 : Failed\n",
      "15 / 128 : Failed\n",
      "16 / 128 : Succes\n",
      "17 / 128 : Failed\n",
      "18 / 128 : Failed\n",
      "19 / 128 : Failed\n",
      "20 / 128 : Succes\n",
      "21 / 128 : Succes\n",
      "22 / 128 : Failed\n",
      "23 / 128 : Succes\n",
      "24 / 128 : Failed\n",
      "25 / 128 : Failed\n",
      "26 / 128 : Failed\n",
      "27 / 128 : Succes\n",
      "28 / 128 : Succes\n",
      "29 / 128 : Succes\n",
      "30 / 128 : Failed\n",
      "31 / 128 : Succes\n",
      "32 / 128 : Succes\n",
      "33 / 128 : Failed\n",
      "34 / 128 : Failed\n",
      "35 / 128 : Failed\n",
      "36 / 128 : Succes\n",
      "37 / 128 : Failed\n",
      "38 / 128 : Failed\n",
      "39 / 128 : Failed\n",
      "40 / 128 : Failed\n",
      "41 / 128 : Succes\n",
      "42 / 128 : Succes\n",
      "43 / 128 : Succes\n",
      "44 / 128 : Failed\n",
      "45 / 128 : Failed\n",
      "46 / 128 : Succes\n",
      "47 / 128 : Failed\n",
      "48 / 128 : Succes\n",
      "49 / 128 : Succes\n",
      "50 / 128 : Succes\n",
      "51 / 128 : Failed\n",
      "52 / 128 : Failed\n",
      "53 / 128 : Succes\n",
      "54 / 128 : Failed\n",
      "55 / 128 : Failed\n",
      "56 / 128 : Succes\n",
      "57 / 128 : Failed\n",
      "58 / 128 : Failed\n",
      "59 / 128 : Failed\n",
      "60 / 128 : Failed\n",
      "61 / 128 : Failed\n",
      "62 / 128 : Succes\n",
      "63 / 128 : Succes\n",
      "64 / 128 : Failed\n",
      "65 / 128 : Failed\n",
      "66 / 128 : Failed\n",
      "67 / 128 : Succes\n",
      "68 / 128 : Succes\n",
      "69 / 128 : Succes\n",
      "70 / 128 : Succes\n",
      "71 / 128 : Failed\n",
      "72 / 128 : Failed\n",
      "73 / 128 : Failed\n",
      "74 / 128 : Failed\n",
      "75 / 128 : Succes\n",
      "76 / 128 : Succes\n",
      "77 / 128 : Succes\n",
      "78 / 128 : Succes\n",
      "79 / 128 : Succes\n",
      "80 / 128 : Succes\n",
      "81 / 128 : Failed\n",
      "82 / 128 : Failed\n",
      "83 / 128 : Failed\n",
      "84 / 128 : Failed\n",
      "85 / 128 : Failed\n",
      "86 / 128 : Failed\n",
      "87 / 128 : Failed\n",
      "88 / 128 : Failed\n",
      "89 / 128 : Succes\n",
      "90 / 128 : Failed\n",
      "91 / 128 : Failed\n",
      "92 / 128 : Failed\n",
      "93 / 128 : Failed\n",
      "94 / 128 : Failed\n",
      "95 / 128 : Failed\n",
      "96 / 128 : Succes\n",
      "97 / 128 : Failed\n",
      "98 / 128 : Succes\n",
      "99 / 128 : Succes\n",
      "100 / 128 : Failed\n",
      "101 / 128 : Failed\n",
      "102 / 128 : Failed\n",
      "103 / 128 : Succes\n",
      "104 / 128 : Failed\n",
      "105 / 128 : Failed\n",
      "106 / 128 : Succes\n",
      "107 / 128 : Succes\n",
      "108 / 128 : Failed\n",
      "109 / 128 : Failed\n",
      "110 / 128 : Failed\n",
      "111 / 128 : Failed\n",
      "112 / 128 : Failed\n",
      "113 / 128 : Succes\n",
      "114 / 128 : Succes\n",
      "115 / 128 : Succes\n",
      "116 / 128 : Failed\n",
      "117 / 128 : Failed\n",
      "118 / 128 : Failed\n",
      "119 / 128 : Succes\n",
      "120 / 128 : Succes\n",
      "121 / 128 : Failed\n",
      "122 / 128 : Failed\n",
      "123 / 128 : Failed\n",
      "124 / 128 : Failed\n",
      "125 / 128 : Failed\n",
      "126 / 128 : Failed\n",
      "127 / 128 : Failed\n",
      "128 / 128 : Failed\n"
     ]
    }
   ],
   "source": [
    "count = 1\n",
    "count_max = len(google_news_link)\n",
    "path = 'db_news'\n",
    "\n",
    "for link in google_news_link:\n",
    "    link = '''%s''' % link\n",
    "    result = scrap_content(link)\n",
    "    \n",
    "    if result[1]:\n",
    "        try:\n",
    "            filename = os.path.join(path, result[0]+\".txt\")\n",
    "            myfile = open(filename, \"w\")\n",
    "            content = result[1].encode('utf-8')\n",
    "            myfile.write(content)\n",
    "            myfile.close()\n",
    "            print(\"%d / %d : Succes\" % (count,count_max))\n",
    "        except:\n",
    "            print(\"%d / %d : Failed\" % (count,count_max))\n",
    "    else:\n",
    "        print(\"%d / %d : Failed\" % (count,count_max))\n",
    "        \n",
    "    count = count + 1"
   ]
  },
  {
   "cell_type": "code",
   "execution_count": null,
   "metadata": {
    "collapsed": true
   },
   "outputs": [],
   "source": []
  }
 ],
 "metadata": {
  "kernelspec": {
   "display_name": "Python 2",
   "language": "python",
   "name": "python2"
  },
  "language_info": {
   "codemirror_mode": {
    "name": "ipython",
    "version": 2
   },
   "file_extension": ".py",
   "mimetype": "text/x-python",
   "name": "python",
   "nbconvert_exporter": "python",
   "pygments_lexer": "ipython2",
   "version": "2.7.12"
  }
 },
 "nbformat": 4,
 "nbformat_minor": 2
}
