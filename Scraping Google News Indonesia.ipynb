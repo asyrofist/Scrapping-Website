{
 "cells": [
  {
   "cell_type": "markdown",
   "metadata": {},
   "source": [
    "# Scrapping Link From Google News Indonesia and Store to .txt file"
   ]
  },
  {
   "cell_type": "code",
   "execution_count": 1,
   "metadata": {},
   "outputs": [],
   "source": [
    "from bs4 import BeautifulSoup\n",
    "from pprint import pprint\n",
    "import requests"
   ]
  },
  {
   "cell_type": "markdown",
   "metadata": {},
   "source": [
    "### Test page"
   ]
  },
  {
   "cell_type": "code",
   "execution_count": 2,
   "metadata": {},
   "outputs": [
    {
     "data": {
      "text/plain": [
       "<Response [200]>"
      ]
     },
     "execution_count": 2,
     "metadata": {},
     "output_type": "execute_result"
    }
   ],
   "source": [
    "url = \"https://news.google.com/news/?ned=id_id&gl=ID&hl=id\"\n",
    "page = requests.get(url)\n",
    "page\n",
    "\n",
    "#if response = 200, it mean the page was downloaded succesfully"
   ]
  },
  {
   "cell_type": "markdown",
   "metadata": {},
   "source": [
    "### Parsing page "
   ]
  },
  {
   "cell_type": "code",
   "execution_count": 3,
   "metadata": {},
   "outputs": [
    {
     "data": {
      "text/plain": [
       "[<a aria-level=\"2\" class=\"nuEeue hzdq5d ME7ew\" href=\"http://www.republika.co.id/berita/nasional/politik/18/01/14/p2i9cc440-alumni-212-masih-solid-atau-mulai-retakkah\" jsname=\"NV4Anc\" role=\"heading\" target=\"_blank\">Alumni 212, Masih Solid atau Mulai Retakkah?</a>]"
      ]
     },
     "execution_count": 3,
     "metadata": {},
     "output_type": "execute_result"
    }
   ],
   "source": [
    "soup = BeautifulSoup(page.content, 'html.parser')\n",
    "sample = soup.find_all(\"a\", {\"class\" : \"nuEeue\"})\n",
    "sample[:1]"
   ]
  },
  {
   "cell_type": "code",
   "execution_count": 4,
   "metadata": {},
   "outputs": [],
   "source": [
    "links = []\n",
    "for x in sample:\n",
    "    links.append(x['href'])"
   ]
  },
  {
   "cell_type": "code",
   "execution_count": 5,
   "metadata": {},
   "outputs": [
    {
     "name": "stdout",
     "output_type": "stream",
     "text": [
      "[u'http://www.republika.co.id/berita/nasional/politik/18/01/14/p2i9cc440-alumni-212-masih-solid-atau-mulai-retakkah',\n",
      " u'https://news.detik.com/berita/d-3813467/pernyataan-resmi-presidium-212-soal-la-nyalla-dan-politik-praktis',\n",
      " u'https://www.cnnindonesia.com/nasional/20180114004619-32-268672/tepis-al-khaththath-alumni-212-klaim-tak-main-pilkada-2018']\n"
     ]
    }
   ],
   "source": [
    "pprint(links[:3])"
   ]
  },
  {
   "cell_type": "markdown",
   "metadata": {},
   "source": [
    "### Save to .txt file"
   ]
  },
  {
   "cell_type": "code",
   "execution_count": 6,
   "metadata": {},
   "outputs": [],
   "source": [
    "links = str(links)\n",
    "\n",
    "myfile = open('links.txt','w')\n",
    "myfile.write(links)\n",
    "myfile.close()"
   ]
  },
  {
   "cell_type": "code",
   "execution_count": null,
   "metadata": {
    "collapsed": true
   },
   "outputs": [],
   "source": []
  }
 ],
 "metadata": {
  "kernelspec": {
   "display_name": "Python 2",
   "language": "python",
   "name": "python2"
  },
  "language_info": {
   "codemirror_mode": {
    "name": "ipython",
    "version": 2
   },
   "file_extension": ".py",
   "mimetype": "text/x-python",
   "name": "python",
   "nbconvert_exporter": "python",
   "pygments_lexer": "ipython2",
   "version": "2.7.12"
  }
 },
 "nbformat": 4,
 "nbformat_minor": 2
}
